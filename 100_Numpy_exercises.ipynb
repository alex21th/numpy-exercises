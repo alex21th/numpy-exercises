{
 "cells": [
  {
   "cell_type": "markdown",
   "id": "f44a2f2b",
   "metadata": {},
   "source": [
    "# 100 numpy exercises\n",
    "\n",
    "This is a collection of exercises that have been collected in the numpy mailing list, on stack overflow\n",
    "and in the numpy documentation. The goal of this collection is to offer a quick reference for both old\n",
    "and new users but also to provide a set of exercises for those who teach.\n",
    "\n",
    "\n",
    "If you find an error or think you've a better way to solve some of them, feel\n",
    "free to open an issue at <https://github.com/rougier/numpy-100>."
   ]
  },
  {
   "cell_type": "markdown",
   "id": "0fe3d529",
   "metadata": {},
   "source": [
    "File automatically generated. See the documentation to update questions/answers/hints programmatically."
   ]
  },
  {
   "cell_type": "markdown",
   "id": "23296a93",
   "metadata": {},
   "source": [
    "Run the `initialize.py` module, then for each question you can query the\n",
    "answer or an hint with `hint(n)` or `answer(n)` for `n` question number."
   ]
  },
  {
   "cell_type": "code",
   "execution_count": 1,
   "id": "530390cf",
   "metadata": {},
   "outputs": [],
   "source": [
    "%run initialise.py"
   ]
  },
  {
   "cell_type": "markdown",
   "id": "96443564",
   "metadata": {},
   "source": [
    "#### 1. Import the numpy package under the name `np` (★☆☆)"
   ]
  },
  {
   "cell_type": "code",
   "execution_count": 2,
   "id": "ffe1047e",
   "metadata": {},
   "outputs": [],
   "source": [
    "import numpy as np"
   ]
  },
  {
   "cell_type": "markdown",
   "id": "c807bf1d",
   "metadata": {},
   "source": [
    "#### 2. Print the numpy version and the configuration (★☆☆)"
   ]
  },
  {
   "cell_type": "code",
   "execution_count": 5,
   "id": "f396b717",
   "metadata": {},
   "outputs": [
    {
     "name": "stdout",
     "output_type": "stream",
     "text": [
      "1.23.4\n",
      "openblas64__info:\n",
      "    libraries = ['openblas64_', 'openblas64_']\n",
      "    library_dirs = ['/usr/local/lib']\n",
      "    language = c\n",
      "    define_macros = [('HAVE_CBLAS', None), ('BLAS_SYMBOL_SUFFIX', '64_'), ('HAVE_BLAS_ILP64', None)]\n",
      "    runtime_library_dirs = ['/usr/local/lib']\n",
      "blas_ilp64_opt_info:\n",
      "    libraries = ['openblas64_', 'openblas64_']\n",
      "    library_dirs = ['/usr/local/lib']\n",
      "    language = c\n",
      "    define_macros = [('HAVE_CBLAS', None), ('BLAS_SYMBOL_SUFFIX', '64_'), ('HAVE_BLAS_ILP64', None)]\n",
      "    runtime_library_dirs = ['/usr/local/lib']\n",
      "openblas64__lapack_info:\n",
      "    libraries = ['openblas64_', 'openblas64_']\n",
      "    library_dirs = ['/usr/local/lib']\n",
      "    language = c\n",
      "    define_macros = [('HAVE_CBLAS', None), ('BLAS_SYMBOL_SUFFIX', '64_'), ('HAVE_BLAS_ILP64', None), ('HAVE_LAPACKE', None)]\n",
      "    runtime_library_dirs = ['/usr/local/lib']\n",
      "lapack_ilp64_opt_info:\n",
      "    libraries = ['openblas64_', 'openblas64_']\n",
      "    library_dirs = ['/usr/local/lib']\n",
      "    language = c\n",
      "    define_macros = [('HAVE_CBLAS', None), ('BLAS_SYMBOL_SUFFIX', '64_'), ('HAVE_BLAS_ILP64', None), ('HAVE_LAPACKE', None)]\n",
      "    runtime_library_dirs = ['/usr/local/lib']\n",
      "Supported SIMD extensions in this NumPy install:\n",
      "    baseline = SSE,SSE2,SSE3\n",
      "    found = SSSE3,SSE41,POPCNT,SSE42,AVX,F16C,FMA3,AVX2\n",
      "    not found = AVX512F,AVX512CD,AVX512_KNL,AVX512_SKX,AVX512_CLX,AVX512_CNL,AVX512_ICL\n"
     ]
    }
   ],
   "source": [
    "print(np.__version__)\n",
    "np.show_config()"
   ]
  },
  {
   "cell_type": "markdown",
   "id": "572c1bdb",
   "metadata": {},
   "source": [
    "#### 3. Create a null vector of size 10 (★☆☆)"
   ]
  },
  {
   "cell_type": "code",
   "execution_count": 4,
   "id": "31c9f6a5",
   "metadata": {},
   "outputs": [
    {
     "data": {
      "text/plain": [
       "array([0., 0., 0., 0., 0., 0., 0., 0., 0., 0.])"
      ]
     },
     "execution_count": 4,
     "metadata": {},
     "output_type": "execute_result"
    }
   ],
   "source": [
    "np.zeros(10)"
   ]
  },
  {
   "cell_type": "markdown",
   "id": "337e6e36",
   "metadata": {},
   "source": [
    "#### 4. How to find the memory size of any array (★☆☆)"
   ]
  },
  {
   "cell_type": "code",
   "execution_count": 5,
   "id": "31e8ec2e",
   "metadata": {},
   "outputs": [
    {
     "name": "stdout",
     "output_type": "stream",
     "text": [
      "5\n",
      "8\n",
      "Total array bytes: 40\n"
     ]
    }
   ],
   "source": [
    "x = np.array([1,2,3,4,5])\n",
    "print(x.size)\n",
    "print(x.itemsize)\n",
    "print(f'Total array bytes: {x.nbytes}')"
   ]
  },
  {
   "cell_type": "markdown",
   "id": "166079c8",
   "metadata": {},
   "source": [
    "#### 5. How to get the documentation of the numpy add function from the command line? (★☆☆)"
   ]
  },
  {
   "cell_type": "code",
   "execution_count": 6,
   "id": "593cd80f",
   "metadata": {},
   "outputs": [
    {
     "name": "stdout",
     "output_type": "stream",
     "text": [
      "     *** Found in numpy ***\n",
      "add(x1, x2, /, out=None, *, where=True, casting='same_kind', order='K', dtype=None, subok=True[, signature, extobj])\n",
      "\n",
      "Add arguments element-wise.\n",
      "\n",
      "Parameters\n",
      "----------\n",
      "x1, x2 : array_like\n",
      "    The arrays to be added. If ``x1.shape != x2.shape``, they must be broadcastable to a common shape (which becomes the shape of the output).\n",
      "out : ndarray, None, or tuple of ndarray and None, optional\n",
      "    A location into which the result is stored. If provided, it must have\n",
      "    a shape that the inputs broadcast to. If not provided or `None`,\n",
      "    a freshly-allocated array is returned. A tuple (possible only as a\n",
      "    keyword argument) must have length equal to the number of outputs.\n",
      "where : array_like, optional\n",
      "    This condition is broadcast over the input. At locations where the\n",
      "    condition is True, the `out` array will be set to the ufunc result.\n",
      "    Elsewhere, the `out` array will retain its original value.\n",
      "    Note that if an uninitialized `out` array is created via the default\n",
      "    ``out=None``, locations within it where the condition is False will\n",
      "    remain uninitialized.\n",
      "**kwargs\n",
      "    For other keyword-only arguments, see the\n",
      "    :ref:`ufunc docs <ufuncs.kwargs>`.\n",
      "\n",
      "Returns\n",
      "-------\n",
      "add : ndarray or scalar\n",
      "    The sum of `x1` and `x2`, element-wise.\n",
      "    This is a scalar if both `x1` and `x2` are scalars.\n",
      "\n",
      "Notes\n",
      "-----\n",
      "Equivalent to `x1` + `x2` in terms of array broadcasting.\n",
      "\n",
      "Examples\n",
      "--------\n",
      ">>> np.add(1.0, 4.0)\n",
      "5.0\n",
      ">>> x1 = np.arange(9.0).reshape((3, 3))\n",
      ">>> x2 = np.arange(3.0)\n",
      ">>> np.add(x1, x2)\n",
      "array([[  0.,   2.,   4.],\n",
      "       [  3.,   5.,   7.],\n",
      "       [  6.,   8.,  10.]])\n",
      "----------------------------------------------------------------------------\n",
      "\n",
      "     *** Repeat reference found in numpy.core *** \n",
      "     *** Found in numpy.core.defchararray ***\n",
      " add(*args, **kwargs)\n",
      "\n",
      "Return element-wise string concatenation for two arrays of str or unicode.\n",
      "\n",
      "Arrays `x1` and `x2` must have the same shape.\n",
      "\n",
      "Parameters\n",
      "----------\n",
      "x1 : array_like of str or unicode\n",
      "    Input array.\n",
      "x2 : array_like of str or unicode\n",
      "    Input array.\n",
      "\n",
      "Returns\n",
      "-------\n",
      "add : ndarray\n",
      "    Output array of `string_` or `unicode_`, depending on input types\n",
      "    of the same shape as `x1` and `x2`.\n",
      "----------------------------------------------------------------------------\n",
      "     *** Found in numpy.ma ***\n",
      "add(x1, x2, /, out=None, *, where=True, casting='same_kind', order='K', dtype=None, subok=True[, signature, extobj])\n",
      "\n",
      "Add arguments element-wise.\n",
      "\n",
      "Parameters\n",
      "----------\n",
      "x1, x2 : array_like\n",
      "    The arrays to be added. If ``x1.shape != x2.shape``, they must be broadcastable to a common shape (which becomes the shape of the output).\n",
      "out : ndarray, None, or tuple of ndarray and None, optional\n",
      "    A location into which the result is stored. If provided, it must have\n",
      "    a shape that the inputs broadcast to. If not provided or `None`,\n",
      "    a freshly-allocated array is returned. A tuple (possible only as a\n",
      "    keyword argument) must have length equal to the number of outputs.\n",
      "where : array_like, optional\n",
      "    This condition is broadcast over the input. At locations where the\n",
      "    condition is True, the `out` array will be set to the ufunc result.\n",
      "    Elsewhere, the `out` array will retain its original value.\n",
      "    Note that if an uninitialized `out` array is created via the default\n",
      "    ``out=None``, locations within it where the condition is False will\n",
      "    remain uninitialized.\n",
      "**kwargs\n",
      "    For other keyword-only arguments, see the\n",
      "    :ref:`ufunc docs <ufuncs.kwargs>`.\n",
      "\n",
      "Returns\n",
      "-------\n",
      "add : ndarray or scalar\n",
      "    The sum of `x1` and `x2`, element-wise.\n",
      "    This is a scalar if both `x1` and `x2` are scalars.\n",
      "\n",
      "Notes\n",
      "-----\n",
      "Equivalent to `x1` + `x2` in terms of array broadcasting.\n",
      "\n",
      "Examples\n",
      "--------\n",
      ">>> np.add(1.0, 4.0)\n",
      "5.0\n",
      ">>> x1 = np.arange(9.0).reshape((3, 3))\n",
      ">>> x2 = np.arange(3.0)\n",
      ">>> np.add(x1, x2)\n",
      "array([[  0.,   2.,   4.],\n",
      "       [  3.,   5.,   7.],\n",
      "       [  6.,   8.,  10.]])\n",
      "----------------------------------------------------------------------------\n",
      "\n",
      "     *** Repeat reference found in numpy.core._multiarray_umath *** \n",
      "\n",
      "     *** Repeat reference found in numpy.core.multiarray *** \n",
      "\n",
      "     *** Repeat reference found in numpy.core.umath *** \n",
      "\n",
      "     *** Repeat reference found in numpy.core.numeric *** \n",
      "\n",
      "     *** Repeat reference found in numpy.linalg.linalg *** \n",
      "\n",
      "     *** Repeat reference found in numpy.lib.function_base *** \n",
      "\n",
      "     *** Repeat reference found in numpy.ma.core *** \n",
      "\n",
      "     *** Repeat reference found in numpy.ma.extras *** \n",
      "     *** Found in operator ***\n",
      "Same as a + b.\n",
      "----------------------------------------------------------------------------\n",
      "\n",
      "     *** Total of 13 references found. ***\n"
     ]
    }
   ],
   "source": [
    "np.info('add')"
   ]
  },
  {
   "cell_type": "markdown",
   "id": "3add7101",
   "metadata": {},
   "source": [
    "#### 6. Create a null vector of size 10 but the fifth value which is 1 (★☆☆)"
   ]
  },
  {
   "cell_type": "code",
   "execution_count": 7,
   "id": "2edf3c42",
   "metadata": {},
   "outputs": [
    {
     "name": "stdout",
     "output_type": "stream",
     "text": [
      "[0. 0. 0. 0. 1. 0. 0. 0. 0. 0.]\n"
     ]
    }
   ],
   "source": [
    "a = np.zeros(10)\n",
    "a[4] = 1\n",
    "print(a)"
   ]
  },
  {
   "cell_type": "markdown",
   "id": "cfc46304",
   "metadata": {},
   "source": [
    "#### 7. Create a vector with values ranging from 10 to 49 (★☆☆)"
   ]
  },
  {
   "cell_type": "code",
   "execution_count": 8,
   "id": "d8b86640",
   "metadata": {},
   "outputs": [
    {
     "data": {
      "text/plain": [
       "array([10, 11, 12, 13, 14, 15, 16, 17, 18, 19, 20, 21, 22, 23, 24, 25, 26,\n",
       "       27, 28, 29, 30, 31, 32, 33, 34, 35, 36, 37, 38, 39, 40, 41, 42, 43,\n",
       "       44, 45, 46, 47, 48, 49])"
      ]
     },
     "execution_count": 8,
     "metadata": {},
     "output_type": "execute_result"
    }
   ],
   "source": [
    "np.arange(10, 50)"
   ]
  },
  {
   "cell_type": "markdown",
   "id": "0cc200be",
   "metadata": {},
   "source": [
    "#### 8. Reverse a vector (first element becomes last) (★☆☆)"
   ]
  },
  {
   "cell_type": "code",
   "execution_count": 9,
   "id": "ec044bb5",
   "metadata": {},
   "outputs": [
    {
     "data": {
      "text/plain": [
       "array([5, 4, 3, 2, 1])"
      ]
     },
     "execution_count": 9,
     "metadata": {},
     "output_type": "execute_result"
    }
   ],
   "source": [
    "x = np.arange(1, 6)\n",
    "x[::-1]"
   ]
  },
  {
   "cell_type": "markdown",
   "id": "29d9ede4",
   "metadata": {},
   "source": [
    "#### 9. Create a 3x3 matrix with values ranging from 0 to 8 (★☆☆)"
   ]
  },
  {
   "cell_type": "code",
   "execution_count": 10,
   "id": "d9e39043",
   "metadata": {},
   "outputs": [
    {
     "data": {
      "text/plain": [
       "array([[0, 1, 2],\n",
       "       [3, 4, 5],\n",
       "       [6, 7, 8]])"
      ]
     },
     "execution_count": 10,
     "metadata": {},
     "output_type": "execute_result"
    }
   ],
   "source": [
    "np.arange(0,9).reshape((3,3))"
   ]
  },
  {
   "cell_type": "markdown",
   "id": "88905ceb",
   "metadata": {},
   "source": [
    "#### 10. Find indices of non-zero elements from [1,2,0,0,4,0] (★☆☆)"
   ]
  },
  {
   "cell_type": "code",
   "execution_count": 11,
   "id": "b2f3c90a",
   "metadata": {},
   "outputs": [
    {
     "data": {
      "text/plain": [
       "(array([0, 1, 4]),)"
      ]
     },
     "execution_count": 11,
     "metadata": {},
     "output_type": "execute_result"
    }
   ],
   "source": [
    "np.nonzero([1,2,0,0,4,0])"
   ]
  },
  {
   "cell_type": "markdown",
   "id": "49603e91",
   "metadata": {},
   "source": [
    "#### 11. Create a 3x3 identity matrix (★☆☆)"
   ]
  },
  {
   "cell_type": "code",
   "execution_count": 12,
   "id": "5b607b5c",
   "metadata": {},
   "outputs": [
    {
     "data": {
      "text/plain": [
       "array([[1., 0., 0.],\n",
       "       [0., 1., 0.],\n",
       "       [0., 0., 1.]])"
      ]
     },
     "execution_count": 12,
     "metadata": {},
     "output_type": "execute_result"
    }
   ],
   "source": [
    "np.eye(3)"
   ]
  },
  {
   "cell_type": "markdown",
   "id": "e15c249a",
   "metadata": {},
   "source": [
    "#### 12. Create a 3x3x3 array with random values (★☆☆)"
   ]
  },
  {
   "cell_type": "code",
   "execution_count": 13,
   "id": "ab21ed50",
   "metadata": {},
   "outputs": [
    {
     "data": {
      "text/plain": [
       "array([[[0.95959455, 0.24646921, 0.2740867 ],\n",
       "        [0.60061649, 0.39501342, 0.67272119],\n",
       "        [0.3158384 , 0.87472646, 0.66440216]],\n",
       "\n",
       "       [[0.48228972, 0.24395516, 0.68999125],\n",
       "        [0.88642103, 0.82220096, 0.81163272],\n",
       "        [0.32695483, 0.73757021, 0.95117384]],\n",
       "\n",
       "       [[0.85291161, 0.90744475, 0.21403355],\n",
       "        [0.26558923, 0.93766213, 0.06203041],\n",
       "        [0.93513744, 0.90065117, 0.72641887]]])"
      ]
     },
     "execution_count": 13,
     "metadata": {},
     "output_type": "execute_result"
    }
   ],
   "source": [
    "np.random.random((3,3,3))"
   ]
  },
  {
   "cell_type": "markdown",
   "id": "157a129c",
   "metadata": {},
   "source": [
    "#### 13. Create a 10x10 array with random values and find the minimum and maximum values (★☆☆)"
   ]
  },
  {
   "cell_type": "code",
   "execution_count": 14,
   "id": "c0066de5",
   "metadata": {},
   "outputs": [
    {
     "name": "stdout",
     "output_type": "stream",
     "text": [
      "min: 0.0014981517749003137\n",
      "min: 0.9990041050168261\n"
     ]
    }
   ],
   "source": [
    "x = np.random.random((10,10))\n",
    "print(f'min: {np.min(x)}')\n",
    "print(f'min: {np.max(x)}')"
   ]
  },
  {
   "cell_type": "markdown",
   "id": "d92d7b32",
   "metadata": {},
   "source": [
    "#### 14. Create a random vector of size 30 and find the mean value (★☆☆)"
   ]
  },
  {
   "cell_type": "code",
   "execution_count": 15,
   "id": "9672d023",
   "metadata": {},
   "outputs": [
    {
     "data": {
      "text/plain": [
       "0.5155230606956347"
      ]
     },
     "execution_count": 15,
     "metadata": {},
     "output_type": "execute_result"
    }
   ],
   "source": [
    "x = np.random.random(30)\n",
    "x.mean()"
   ]
  },
  {
   "cell_type": "markdown",
   "id": "f361efc0",
   "metadata": {},
   "source": [
    "#### 15. Create a 2d array with 1 on the border and 0 inside (★☆☆)"
   ]
  },
  {
   "cell_type": "code",
   "execution_count": 16,
   "id": "a55b6666",
   "metadata": {},
   "outputs": [
    {
     "data": {
      "text/plain": [
       "array([[1, 1, 1, 1],\n",
       "       [1, 0, 0, 1],\n",
       "       [1, 0, 0, 1],\n",
       "       [1, 1, 1, 1]])"
      ]
     },
     "execution_count": 16,
     "metadata": {},
     "output_type": "execute_result"
    }
   ],
   "source": [
    "x = np.full((4,4), 1)\n",
    "x[1:-1, 1:-1] = 0\n",
    "x"
   ]
  },
  {
   "cell_type": "markdown",
   "id": "475808cb",
   "metadata": {},
   "source": [
    "#### 16. How to add a border (filled with 0's) around an existing array? (★☆☆)"
   ]
  },
  {
   "cell_type": "code",
   "execution_count": 17,
   "id": "b2df3a8a",
   "metadata": {},
   "outputs": [
    {
     "data": {
      "text/plain": [
       "array([[0, 0, 0, 0, 0, 0],\n",
       "       [0, 7, 7, 7, 7, 0],\n",
       "       [0, 7, 7, 7, 7, 0],\n",
       "       [0, 7, 7, 7, 7, 0],\n",
       "       [0, 7, 7, 7, 7, 0],\n",
       "       [0, 0, 0, 0, 0, 0]])"
      ]
     },
     "execution_count": 17,
     "metadata": {},
     "output_type": "execute_result"
    }
   ],
   "source": [
    "x = np.full((4,4), 7)\n",
    "np.pad(x, pad_width=1)"
   ]
  },
  {
   "cell_type": "markdown",
   "id": "1af07d85",
   "metadata": {},
   "source": [
    "#### 17. What is the result of the following expression? (★☆☆)\n",
    "```python\n",
    "0 * np.nan\n",
    "np.nan == np.nan\n",
    "np.inf > np.nan\n",
    "np.nan - np.nan\n",
    "np.nan in set([np.nan])\n",
    "0.3 == 3 * 0.1\n",
    "```"
   ]
  },
  {
   "cell_type": "markdown",
   "id": "8010f943",
   "metadata": {},
   "source": [
    "##### Result\n",
    "```Python\n",
    "nan\n",
    "False\n",
    "False\n",
    "nan\n",
    "False\n",
    "False\n",
    "```"
   ]
  },
  {
   "cell_type": "code",
   "execution_count": 18,
   "id": "109cf327",
   "metadata": {},
   "outputs": [
    {
     "name": "stdout",
     "output_type": "stream",
     "text": [
      "nan\n",
      "False\n",
      "False\n",
      "nan\n",
      "False\n",
      "False\n"
     ]
    }
   ],
   "source": [
    "print(0 * np.nan)\n",
    "print(np.nan == np.nan)\n",
    "print(np.inf > np.nan)\n",
    "print(np.nan - np.nan)\n",
    "print(np.nan is set([np.nan]))\n",
    "print(0.3 == 3 * 0.1)"
   ]
  },
  {
   "cell_type": "markdown",
   "id": "6a235316",
   "metadata": {},
   "source": [
    "#### 18. Create a 5x5 matrix with values 1,2,3,4 just below the diagonal (★☆☆)"
   ]
  },
  {
   "cell_type": "code",
   "execution_count": 19,
   "id": "adbd863c",
   "metadata": {},
   "outputs": [
    {
     "data": {
      "text/plain": [
       "array([[0, 0, 0, 0, 0],\n",
       "       [1, 0, 0, 0, 0],\n",
       "       [0, 2, 0, 0, 0],\n",
       "       [0, 0, 3, 0, 0],\n",
       "       [0, 0, 0, 4, 0]])"
      ]
     },
     "execution_count": 19,
     "metadata": {},
     "output_type": "execute_result"
    }
   ],
   "source": [
    "np.diag(np.arange(1,5), k=-1)"
   ]
  },
  {
   "cell_type": "markdown",
   "id": "25362e98",
   "metadata": {},
   "source": [
    "#### 19. Create a 8x8 matrix and fill it with a checkerboard pattern (★☆☆)"
   ]
  },
  {
   "cell_type": "code",
   "execution_count": 20,
   "id": "cabdf298",
   "metadata": {},
   "outputs": [
    {
     "data": {
      "text/plain": [
       "array([[0., 1., 0., 1., 0., 1., 0., 1.],\n",
       "       [1., 0., 1., 0., 1., 0., 1., 0.],\n",
       "       [0., 1., 0., 1., 0., 1., 0., 1.],\n",
       "       [1., 0., 1., 0., 1., 0., 1., 0.],\n",
       "       [0., 1., 0., 1., 0., 1., 0., 1.],\n",
       "       [1., 0., 1., 0., 1., 0., 1., 0.],\n",
       "       [0., 1., 0., 1., 0., 1., 0., 1.],\n",
       "       [1., 0., 1., 0., 1., 0., 1., 0.]])"
      ]
     },
     "execution_count": 20,
     "metadata": {},
     "output_type": "execute_result"
    }
   ],
   "source": [
    "x = np.zeros((8,8))\n",
    "x[::2, 1::2] = 1\n",
    "x[1::2, ::2] = 1\n",
    "x"
   ]
  },
  {
   "cell_type": "markdown",
   "id": "6431e977",
   "metadata": {},
   "source": [
    "#### 20. Consider a (6,7,8) shape array, what is the index (x,y,z) of the 100th element? (★☆☆)"
   ]
  },
  {
   "cell_type": "code",
   "execution_count": 21,
   "id": "73b6648e",
   "metadata": {},
   "outputs": [
    {
     "data": {
      "text/plain": [
       "(1, 5, 4)"
      ]
     },
     "execution_count": 21,
     "metadata": {},
     "output_type": "execute_result"
    }
   ],
   "source": [
    "np.unravel_index(100, (6,7,8))"
   ]
  },
  {
   "cell_type": "markdown",
   "id": "31abe6fe",
   "metadata": {},
   "source": [
    "#### 21. Create a checkerboard 8x8 matrix using the tile function (★☆☆)"
   ]
  },
  {
   "cell_type": "code",
   "execution_count": 22,
   "id": "660b435a",
   "metadata": {},
   "outputs": [
    {
     "data": {
      "text/plain": [
       "array([[0, 1, 0, 1, 0, 1, 0, 1],\n",
       "       [1, 0, 1, 0, 1, 0, 1, 0],\n",
       "       [0, 1, 0, 1, 0, 1, 0, 1],\n",
       "       [1, 0, 1, 0, 1, 0, 1, 0],\n",
       "       [0, 1, 0, 1, 0, 1, 0, 1],\n",
       "       [1, 0, 1, 0, 1, 0, 1, 0],\n",
       "       [0, 1, 0, 1, 0, 1, 0, 1],\n",
       "       [1, 0, 1, 0, 1, 0, 1, 0]])"
      ]
     },
     "execution_count": 22,
     "metadata": {},
     "output_type": "execute_result"
    }
   ],
   "source": [
    "x = np.array([[0,1],[1,0]])\n",
    "np.tile(x, (4,4))"
   ]
  },
  {
   "cell_type": "markdown",
   "id": "fd88b3f4",
   "metadata": {},
   "source": [
    "#### 22. Normalize a 5x5 random matrix (★☆☆)"
   ]
  },
  {
   "cell_type": "code",
   "execution_count": 23,
   "id": "ee6ced60",
   "metadata": {},
   "outputs": [
    {
     "name": "stdout",
     "output_type": "stream",
     "text": [
      "[[0.60473999 0.30951325 0.70842625 0.68445881 0.8452084 ]\n",
      " [0.76540868 0.40698206 0.35012476 0.78782682 0.42985574]\n",
      " [0.66496177 0.00932464 0.74497307 0.3610882  0.29264656]\n",
      " [0.26849245 0.92218683 0.92829889 0.37238414 0.1218779 ]\n",
      " [0.78953962 0.86667048 0.90538867 0.77148259 0.72822129]]\n",
      "[[0.04130715 0.0211415  0.0483895  0.04675239 0.05773249]\n",
      " [0.05228172 0.02779917 0.02391549 0.05381301 0.02936157]\n",
      " [0.04542063 0.00063693 0.05088585 0.02466436 0.01998941]\n",
      " [0.01833955 0.06299055 0.06340804 0.02543593 0.00832495]\n",
      " [0.05393    0.05919847 0.06184314 0.0526966  0.04974161]]\n",
      "1.0000000000000002\n"
     ]
    }
   ],
   "source": [
    "x = np.random.random((5,5))\n",
    "print(x)\n",
    "n = x / np.sum(x)\n",
    "print(n)\n",
    "print(np.sum(n))"
   ]
  },
  {
   "cell_type": "markdown",
   "id": "464d8590",
   "metadata": {},
   "source": [
    "#### 23. Create a custom dtype that describes a color as four unsigned bytes (RGBA) (★☆☆)"
   ]
  },
  {
   "cell_type": "code",
   "execution_count": 24,
   "id": "e2f9cfc6",
   "metadata": {},
   "outputs": [
    {
     "data": {
      "text/plain": [
       "array([[(0, 0, 0, 0), (0, 0, 0, 0), (0, 0, 0, 0)],\n",
       "       [(0, 0, 0, 0), (0, 0, 0, 0), (0, 0, 0, 0)],\n",
       "       [(0, 0, 0, 0), (0, 0, 0, 0), (0, 0, 0, 0)]],\n",
       "      dtype=[('red', 'u1'), ('green', 'u1'), ('blue', 'u1'), ('alpha', 'u1')])"
      ]
     },
     "execution_count": 24,
     "metadata": {},
     "output_type": "execute_result"
    }
   ],
   "source": [
    "rgba_type = np.dtype([('red', np.ubyte),('green', np.ubyte),('blue', np.ubyte),('alpha', np.ubyte)])\n",
    "x = np.zeros((3,3), dtype=rgba_type)\n",
    "x"
   ]
  },
  {
   "cell_type": "markdown",
   "id": "06c63bb3",
   "metadata": {},
   "source": [
    "#### 24. Multiply a 5x3 matrix by a 3x2 matrix (real matrix product) (★☆☆)"
   ]
  },
  {
   "cell_type": "code",
   "execution_count": 25,
   "id": "9fc0d553",
   "metadata": {},
   "outputs": [
    {
     "name": "stdout",
     "output_type": "stream",
     "text": [
      "[[ 0  1  2]\n",
      " [ 3  4  5]\n",
      " [ 6  7  8]\n",
      " [ 9 10 11]\n",
      " [12 13 14]]\n",
      "[[0 1]\n",
      " [2 3]\n",
      " [4 5]]\n"
     ]
    },
    {
     "data": {
      "text/plain": [
       "array([[ 10,  13],\n",
       "       [ 28,  40],\n",
       "       [ 46,  67],\n",
       "       [ 64,  94],\n",
       "       [ 82, 121]])"
      ]
     },
     "execution_count": 25,
     "metadata": {},
     "output_type": "execute_result"
    }
   ],
   "source": [
    "x = np.arange(15).reshape(5,3)\n",
    "y = np.arange(6).reshape(3,2)\n",
    "print(x)\n",
    "print(y)\n",
    "np.matmul(x, y)"
   ]
  },
  {
   "cell_type": "markdown",
   "id": "76fa6285",
   "metadata": {},
   "source": [
    "#### 25. Given a 1D array, negate all elements which are between 3 and 8, in place. (★☆☆)"
   ]
  },
  {
   "cell_type": "code",
   "execution_count": 26,
   "id": "0e25eca7",
   "metadata": {},
   "outputs": [
    {
     "name": "stdout",
     "output_type": "stream",
     "text": [
      "[0 1 2 3 4 5 6 7 8 9]\n"
     ]
    },
    {
     "data": {
      "text/plain": [
       "array([ 0,  1,  2, -3, -4, -5, -6, -7, -8,  9])"
      ]
     },
     "execution_count": 26,
     "metadata": {},
     "output_type": "execute_result"
    }
   ],
   "source": [
    "x = np.arange(10)\n",
    "print(x)\n",
    "x[(3 <= x) & (x <= 8)] *= -1\n",
    "x"
   ]
  },
  {
   "cell_type": "markdown",
   "id": "930ed8bb",
   "metadata": {},
   "source": [
    "#### 26. What is the output of the following script? (★☆☆)\n",
    "```python\n",
    "# Author: Jake VanderPlas\n",
    "\n",
    "print(sum(range(5),-1))\n",
    "from numpy import *\n",
    "print(sum(range(5),-1))\n",
    "```"
   ]
  },
  {
   "cell_type": "code",
   "execution_count": 27,
   "id": "f02eedba",
   "metadata": {},
   "outputs": [
    {
     "name": "stdout",
     "output_type": "stream",
     "text": [
      "9\n",
      "10\n"
     ]
    }
   ],
   "source": [
    "print(sum(range(5),-1))\n",
    "from numpy import *\n",
    "print(sum(range(5),-1))"
   ]
  },
  {
   "cell_type": "markdown",
   "id": "177120e7",
   "metadata": {},
   "source": [
    "#### 27. Consider an integer vector Z, which of these expressions are legal? (★☆☆)\n",
    "```python\n",
    "Z**Z\n",
    "2 << Z >> 2\n",
    "Z <- Z\n",
    "1j*Z\n",
    "Z/1/1\n",
    "Z<Z>Z\n",
    "```"
   ]
  },
  {
   "cell_type": "code",
   "execution_count": 28,
   "id": "b9e9d1f5",
   "metadata": {},
   "outputs": [
    {
     "name": "stdout",
     "output_type": "stream",
     "text": [
      "2\n",
      "4\n",
      "1\n",
      "0\n",
      "6\n",
      "1\n",
      "3\n"
     ]
    }
   ],
   "source": [
    "print(1 << 1)   #  b1: 1 --> shift 1 bytes left --> b10: 2  \n",
    "print(1 << 2)   #  b1: 1 --> shift 2 bytes left --> b100: 4\n",
    "print(2 >> 1)   # b10: 2 --> shift 1 bytes left --> b1: 1\n",
    "print(2 >> 2)   # b10: 2 --> shift 2 bytes left --> b0: 0\n",
    "print(3 << 1)\n",
    "print(3 >> 1)\n",
    "print(3 << 1 >> 1)"
   ]
  },
  {
   "cell_type": "code",
   "execution_count": 29,
   "id": "86d6cbef",
   "metadata": {},
   "outputs": [
    {
     "name": "stdout",
     "output_type": "stream",
     "text": [
      "[ 1  4 27]\n",
      "[1 2 4]\n",
      "[False False False]\n",
      "[0.+1.j 0.+2.j 0.+3.j]\n",
      "[1. 2. 3.]\n",
      "[False False False]\n",
      "(z < z) & (z > z)\n"
     ]
    }
   ],
   "source": [
    "z = np.array([1,2,3])\n",
    "print(z**z)\n",
    "print(2 << z >> 2)\n",
    "print(z < -z)\n",
    "print(1j * z)\n",
    "print(z / 1 / 1)\n",
    "try:\n",
    "    print(z < z > z)\n",
    "    print('z < z > z')\n",
    "except:\n",
    "    print((z < z) & (z > z))\n",
    "    print('(z < z) & (z > z)')"
   ]
  },
  {
   "cell_type": "markdown",
   "id": "a6eaf0e8",
   "metadata": {},
   "source": [
    "#### 28. What are the result of the following expressions? (★☆☆)\n",
    "```python\n",
    "np.array(0) / np.array(0)\n",
    "np.array(0) // np.array(0)\n",
    "np.array([np.nan]).astype(int).astype(float)\n",
    "```"
   ]
  },
  {
   "cell_type": "code",
   "execution_count": 30,
   "id": "93684068",
   "metadata": {},
   "outputs": [
    {
     "name": "stdout",
     "output_type": "stream",
     "text": [
      "nan\n",
      "0\n",
      "[-9223372036854775808]\n",
      "[-9.22337204e+18]\n"
     ]
    },
    {
     "name": "stderr",
     "output_type": "stream",
     "text": [
      "/tmp/ipykernel_6475/2723105673.py:1: RuntimeWarning: invalid value encountered in true_divide\n",
      "  print(np.array(0) / np.array(0))\n",
      "/tmp/ipykernel_6475/2723105673.py:2: RuntimeWarning: divide by zero encountered in floor_divide\n",
      "  print(np.array(0) // np.array(0))\n"
     ]
    }
   ],
   "source": [
    "print(np.array(0) / np.array(0))\n",
    "print(np.array(0) // np.array(0))\n",
    "print(np.array([np.nan]).astype(int))\n",
    "print(np.array([np.nan]).astype(int).astype(float))"
   ]
  },
  {
   "cell_type": "markdown",
   "id": "524b65f8",
   "metadata": {},
   "source": [
    "#### 29. How to round away from zero a float array ? (★☆☆)"
   ]
  },
  {
   "cell_type": "code",
   "execution_count": 31,
   "id": "61fbb78e",
   "metadata": {},
   "outputs": [
    {
     "name": "stdout",
     "output_type": "stream",
     "text": [
      "[ 1.01224512  2.36588296  0.70198037 -0.43666709 -0.64155335  2.71783283\n",
      " -0.25188495  1.57978927 -2.70186873  0.67704765]\n",
      "[ 2.  3.  1. -1. -1.  3. -1.  2. -3.  1.]\n",
      "[ 2.  3.  1. -1. -1.  3. -1.  2. -3.  1.]\n"
     ]
    }
   ],
   "source": [
    "x = np.random.uniform(-3, 3, 10)\n",
    "print(x)\n",
    "print(np.where(x > 0, np.ceil(x), np.floor(x)))\n",
    "\n",
    "# Faster implementation\n",
    "print(np.copysign(np.ceil(np.abs(x)), x))"
   ]
  },
  {
   "cell_type": "markdown",
   "id": "8dc40752",
   "metadata": {},
   "source": [
    "#### 30. How to find common values between two arrays? (★☆☆)"
   ]
  },
  {
   "cell_type": "code",
   "execution_count": 32,
   "id": "54399cbe",
   "metadata": {},
   "outputs": [
    {
     "name": "stdout",
     "output_type": "stream",
     "text": [
      "[0 1 2 3 4 5]\n",
      "[3 4 5 6 7 8 9]\n"
     ]
    },
    {
     "data": {
      "text/plain": [
       "array([3, 4, 5])"
      ]
     },
     "execution_count": 32,
     "metadata": {},
     "output_type": "execute_result"
    }
   ],
   "source": [
    "x = np.arange(6)\n",
    "y = np.arange(3,10)\n",
    "print(x)\n",
    "print(y)\n",
    "np.intersect1d(x, y)"
   ]
  },
  {
   "cell_type": "markdown",
   "id": "b7f38e21",
   "metadata": {},
   "source": [
    "#### 31. How to ignore all numpy warnings (not recommended)? (★☆☆)"
   ]
  },
  {
   "cell_type": "code",
   "execution_count": 33,
   "id": "1bf2c481",
   "metadata": {},
   "outputs": [
    {
     "name": "stdout",
     "output_type": "stream",
     "text": [
      "[nan]\n",
      "[[nan nan]\n",
      " [nan nan]]\n",
      "[[nan nan nan nan]\n",
      " [nan nan nan nan]\n",
      " [nan nan nan nan]\n",
      " [nan nan nan nan]]\n"
     ]
    },
    {
     "name": "stderr",
     "output_type": "stream",
     "text": [
      "/tmp/ipykernel_6475/1419492392.py:5: RuntimeWarning: invalid value encountered in true_divide\n",
      "  print(np.zeros((2,2)) / 0)\n"
     ]
    }
   ],
   "source": [
    "old_settings = np.seterr(all='ignore')\n",
    "print(np.zeros(1) / 0)\n",
    "\n",
    "_ = np.seterr(**old_settings)\n",
    "print(np.zeros((2,2)) / 0)\n",
    "\n",
    "# Do it once for a specific computation action:\n",
    "with np.errstate(all='ignore'):\n",
    "    print(np.zeros((4,4)) / 0)"
   ]
  },
  {
   "cell_type": "markdown",
   "id": "2d850aab",
   "metadata": {},
   "source": [
    "#### 32. Is the following expressions true? (★☆☆)\n",
    "```python\n",
    "np.sqrt(-1) == np.emath.sqrt(-1)\n",
    "```"
   ]
  },
  {
   "cell_type": "code",
   "execution_count": 34,
   "id": "5c83ffce",
   "metadata": {},
   "outputs": [
    {
     "name": "stdout",
     "output_type": "stream",
     "text": [
      "nan\n",
      "1j\n",
      "False\n"
     ]
    },
    {
     "name": "stderr",
     "output_type": "stream",
     "text": [
      "/tmp/ipykernel_6475/2241188018.py:1: RuntimeWarning: invalid value encountered in sqrt\n",
      "  x = np.sqrt(-1)\n"
     ]
    }
   ],
   "source": [
    "x = np.sqrt(-1)\n",
    "y = np.emath.sqrt(-1)\n",
    "print(x)\n",
    "print(y)\n",
    "print(x == y)"
   ]
  },
  {
   "cell_type": "markdown",
   "id": "5c4a556f",
   "metadata": {},
   "source": [
    "#### 33. How to get the dates of yesterday, today and tomorrow? (★☆☆)"
   ]
  },
  {
   "cell_type": "code",
   "execution_count": 35,
   "id": "a09145fe",
   "metadata": {},
   "outputs": [
    {
     "name": "stdout",
     "output_type": "stream",
     "text": [
      "2022-10-12\n",
      "2022-10-13\n",
      "2022-10-14\n"
     ]
    }
   ],
   "source": [
    "print(np.datetime64('today') - np.timedelta64(1))\n",
    "print(np.datetime64('today'))\n",
    "print(np.datetime64('today') + np.timedelta64(1))"
   ]
  },
  {
   "cell_type": "markdown",
   "id": "453cdd64",
   "metadata": {},
   "source": [
    "#### 34. How to get all the dates corresponding to the month of July 2016? (★★☆)"
   ]
  },
  {
   "cell_type": "code",
   "execution_count": 36,
   "id": "4ba4d37c",
   "metadata": {},
   "outputs": [
    {
     "data": {
      "text/plain": [
       "array(['2016-07-01', '2016-07-02', '2016-07-03', '2016-07-04',\n",
       "       '2016-07-05', '2016-07-06', '2016-07-07', '2016-07-08',\n",
       "       '2016-07-09', '2016-07-10', '2016-07-11', '2016-07-12',\n",
       "       '2016-07-13', '2016-07-14', '2016-07-15', '2016-07-16',\n",
       "       '2016-07-17', '2016-07-18', '2016-07-19', '2016-07-20',\n",
       "       '2016-07-21', '2016-07-22', '2016-07-23', '2016-07-24',\n",
       "       '2016-07-25', '2016-07-26', '2016-07-27', '2016-07-28',\n",
       "       '2016-07-29', '2016-07-30'], dtype='datetime64[D]')"
      ]
     },
     "execution_count": 36,
     "metadata": {},
     "output_type": "execute_result"
    }
   ],
   "source": [
    "np.arange('2016-07-01', '2016-07-31', dtype='datetime64[D]')"
   ]
  },
  {
   "cell_type": "markdown",
   "id": "52667b6e",
   "metadata": {},
   "source": [
    "#### 35. How to compute ((A+B)*(-A/2)) in place (without copy)? (★★☆)"
   ]
  },
  {
   "cell_type": "code",
   "execution_count": 37,
   "id": "3afbe1e0",
   "metadata": {},
   "outputs": [
    {
     "name": "stdout",
     "output_type": "stream",
     "text": [
      "[1. 2. 3. 4. 5.]\n",
      "[5. 4. 3. 2. 1.]\n",
      "[ -3.  -6.  -9. -12. -15.]\n",
      "[ -3.  -6.  -9. -12. -15.]\n",
      "[ -3.  -6.  -9. -12. -15.]\n"
     ]
    }
   ],
   "source": [
    "a = np.arange(1,6, dtype=float)\n",
    "b = np.arange(5, 0,-1, dtype=float)\n",
    "print(a)\n",
    "print(b)\n",
    "print(np.multiply(np.add(a, b), np.divide(np.negative(a), 2)))\n",
    "print(((a + b) * (-a / 2)))\n",
    "\n",
    "# In-place using \"out=\" paraeter: location into which the result is stored\n",
    "np.add(a, b, out=b)\n",
    "np.divide(a, 2, out=a)\n",
    "np.negative(a, out=a)\n",
    "np.multiply(a, b, out=a)\n",
    "print(a)"
   ]
  },
  {
   "cell_type": "markdown",
   "id": "9a8f3738",
   "metadata": {},
   "source": [
    "#### 36. Extract the integer part of a random array of positive numbers using 4 different methods (★★☆)"
   ]
  },
  {
   "cell_type": "code",
   "execution_count": 38,
   "id": "368a801a",
   "metadata": {},
   "outputs": [
    {
     "name": "stdout",
     "output_type": "stream",
     "text": [
      "[1.50840361 9.40748164 3.9802328  8.86595572 4.38512578 6.87684754\n",
      " 3.02846722 6.27707559 2.38170354 6.97490647]\n",
      "[1. 9. 3. 8. 4. 6. 3. 6. 2. 6.]\n",
      "[1 9 3 8 4 6 3 6 2 6]\n",
      "[1. 9. 3. 8. 4. 6. 3. 6. 2. 6.]\n"
     ]
    }
   ],
   "source": [
    "x = np.random.uniform(1, 10, 10)\n",
    "print(x)\n",
    "print(np.floor(x))\n",
    "print(x.astype(int))\n",
    "print(np.trunc(x))"
   ]
  },
  {
   "cell_type": "markdown",
   "id": "cab1eed1",
   "metadata": {},
   "source": [
    "#### 37. Create a 5x5 matrix with row values ranging from 0 to 4 (★★☆)"
   ]
  },
  {
   "cell_type": "code",
   "execution_count": 39,
   "id": "f1b579ba",
   "metadata": {},
   "outputs": [
    {
     "data": {
      "text/plain": [
       "array([[0, 1, 2, 3, 4],\n",
       "       [0, 1, 2, 3, 4],\n",
       "       [0, 1, 2, 3, 4],\n",
       "       [0, 1, 2, 3, 4],\n",
       "       [0, 1, 2, 3, 4]])"
      ]
     },
     "execution_count": 39,
     "metadata": {},
     "output_type": "execute_result"
    }
   ],
   "source": [
    "x = np.arange(5)\n",
    "np.tile(x,(5,1))"
   ]
  },
  {
   "cell_type": "markdown",
   "id": "cd0ce6b1",
   "metadata": {},
   "source": [
    "#### 38. Consider a generator function that generates 10 integers and use it to build an array (★☆☆)"
   ]
  },
  {
   "cell_type": "code",
   "execution_count": 40,
   "id": "aab193a6",
   "metadata": {},
   "outputs": [],
   "source": [
    "def generator():\n",
    "    for i in range(10):\n",
    "        yield i"
   ]
  },
  {
   "cell_type": "code",
   "execution_count": 41,
   "id": "f16f2845",
   "metadata": {},
   "outputs": [
    {
     "data": {
      "text/plain": [
       "array([0, 1, 2, 3, 4, 5, 6, 7, 8, 9])"
      ]
     },
     "execution_count": 41,
     "metadata": {},
     "output_type": "execute_result"
    }
   ],
   "source": [
    "x = np.fromiter(generator(), dtype=int)\n",
    "x"
   ]
  },
  {
   "cell_type": "markdown",
   "id": "c4c942d1",
   "metadata": {},
   "source": [
    "#### 39. Create a vector of size 10 with values ranging from 0 to 1, both excluded (★★☆)"
   ]
  },
  {
   "cell_type": "code",
   "execution_count": 42,
   "id": "e42eaa4b",
   "metadata": {},
   "outputs": [
    {
     "data": {
      "text/plain": [
       "array([0.1, 0.2, 0.3, 0.4, 0.5, 0.6, 0.7, 0.8, 0.9])"
      ]
     },
     "execution_count": 42,
     "metadata": {},
     "output_type": "execute_result"
    }
   ],
   "source": [
    "np.arange(start=0.1, stop=1, step=0.1)"
   ]
  },
  {
   "cell_type": "code",
   "execution_count": 43,
   "id": "31116a6b",
   "metadata": {},
   "outputs": [
    {
     "data": {
      "text/plain": [
       "array([0.09090909, 0.18181818, 0.27272727, 0.36363636, 0.45454545,\n",
       "       0.54545455, 0.63636364, 0.72727273, 0.81818182, 0.90909091])"
      ]
     },
     "execution_count": 43,
     "metadata": {},
     "output_type": "execute_result"
    }
   ],
   "source": [
    "np.linspace(start=0, stop=1, num=11, endpoint=False)[1:]"
   ]
  },
  {
   "cell_type": "markdown",
   "id": "9b3cb8d2",
   "metadata": {},
   "source": [
    "#### 40. Create a random vector of size 10 and sort it (★★☆)"
   ]
  },
  {
   "cell_type": "code",
   "execution_count": 44,
   "id": "37d2b341",
   "metadata": {},
   "outputs": [
    {
     "data": {
      "text/plain": [
       "array([0.06049024, 0.0985608 , 0.16260867, 0.30552721, 0.46453537,\n",
       "       0.47654427, 0.57646003, 0.61662165, 0.69875469, 0.92385809])"
      ]
     },
     "execution_count": 44,
     "metadata": {},
     "output_type": "execute_result"
    }
   ],
   "source": [
    "np.sort(np.random.random(10))"
   ]
  },
  {
   "cell_type": "markdown",
   "id": "2facfddc",
   "metadata": {},
   "source": [
    "#### 41. How to sum a small array faster than np.sum? (★★☆)"
   ]
  },
  {
   "cell_type": "code",
   "execution_count": 45,
   "id": "f0527d59",
   "metadata": {},
   "outputs": [
    {
     "name": "stdout",
     "output_type": "stream",
     "text": [
      "[0 1 2 3 4]\n"
     ]
    },
    {
     "data": {
      "text/plain": [
       "10"
      ]
     },
     "execution_count": 45,
     "metadata": {},
     "output_type": "execute_result"
    }
   ],
   "source": [
    "x = np.arange(5)\n",
    "print(x)\n",
    "np.add.reduce(np.arange(5))"
   ]
  },
  {
   "cell_type": "markdown",
   "id": "539cd2a5",
   "metadata": {},
   "source": [
    "#### 42. Consider two random array A and B, check if they are equal (★★☆)"
   ]
  },
  {
   "cell_type": "code",
   "execution_count": 46,
   "id": "5246d7bf",
   "metadata": {},
   "outputs": [
    {
     "name": "stdout",
     "output_type": "stream",
     "text": [
      "[0.41408582 0.92148751 0.72387664 0.69959573 0.52517299 0.70599412\n",
      " 0.85510182 0.53201048 0.49141238 0.27379564]\n",
      "[0.8441617  0.80385478 0.08077559 0.24165617 0.13489848 0.1662572\n",
      " 0.15953905 0.21549996 0.72490603 0.83958348]\n",
      "[False False False False False False False False False False]\n",
      "False\n",
      "False\n"
     ]
    }
   ],
   "source": [
    "a = np.random.random(10)\n",
    "b = np.random.random(10)\n",
    "print(a)\n",
    "print(b)\n",
    "print(np.equal(a, b))\n",
    "print(np.array_equal(a, b))\n",
    "print(np.allclose(a, b))"
   ]
  },
  {
   "cell_type": "markdown",
   "id": "448f8274",
   "metadata": {},
   "source": [
    "#### 43. Make an array immutable (read-only) (★★☆)"
   ]
  },
  {
   "cell_type": "code",
   "execution_count": 47,
   "id": "7cf2b3dd",
   "metadata": {},
   "outputs": [
    {
     "name": "stdout",
     "output_type": "stream",
     "text": [
      "[0 1 2 3 4 5 6 7 8 9]\n"
     ]
    },
    {
     "ename": "ValueError",
     "evalue": "assignment destination is read-only",
     "output_type": "error",
     "traceback": [
      "\u001b[0;31m---------------------------------------------------------------------------\u001b[0m",
      "\u001b[0;31mValueError\u001b[0m                                Traceback (most recent call last)",
      "Cell \u001b[0;32mIn [47], line 4\u001b[0m\n\u001b[1;32m      2\u001b[0m a\u001b[39m.\u001b[39mflags\u001b[39m.\u001b[39mwriteable \u001b[39m=\u001b[39m \u001b[39mFalse\u001b[39;00m\n\u001b[1;32m      3\u001b[0m \u001b[39mprint\u001b[39m(a)\n\u001b[0;32m----> 4\u001b[0m a[\u001b[39m0\u001b[39m] \u001b[39m=\u001b[39m \u001b[39m9\u001b[39m\n",
      "\u001b[0;31mValueError\u001b[0m: assignment destination is read-only"
     ]
    }
   ],
   "source": [
    "a = np.arange(10)\n",
    "a.flags.writeable = False\n",
    "print(a)\n",
    "a[0] = 9"
   ]
  },
  {
   "cell_type": "markdown",
   "id": "d7b7aaf3",
   "metadata": {},
   "source": [
    "#### 44. Consider a random 10x2 matrix representing cartesian coordinates, convert them to polar coordinates (★★☆)"
   ]
  },
  {
   "cell_type": "code",
   "execution_count": 48,
   "id": "e2337585",
   "metadata": {},
   "outputs": [
    {
     "name": "stdout",
     "output_type": "stream",
     "text": [
      "[[6.24804792 2.64848165]\n",
      " [1.24656583 4.52240694]\n",
      " [2.04036998 1.51531786]\n",
      " [2.99898191 2.42774487]\n",
      " [5.93443489 6.76505142]\n",
      " [4.72438907 5.85719188]\n",
      " [2.39150271 8.56077168]\n",
      " [9.31045186 9.60247396]\n",
      " [7.76488332 8.9977433 ]\n",
      " [9.42359533 9.02304183]]\n",
      "[[ 6.78620349  0.40092963]\n",
      " [ 4.69106501  1.30183324]\n",
      " [ 2.54151487  0.63879221]\n",
      " [ 3.85847607  0.68052074]\n",
      " [ 8.99907986  0.85071066]\n",
      " [ 7.52506138  0.8920462 ]\n",
      " [ 8.88853739  1.29838493]\n",
      " [13.37505215  0.80083728]\n",
      " [11.88498202  0.85881411]\n",
      " [13.04681696  0.7636874 ]]\n"
     ]
    }
   ],
   "source": [
    "a = np.random.uniform(1,10, (10,2))\n",
    "print(a)\n",
    "b = a.copy()\n",
    "x, y = a[:,0], a[:,1]\n",
    "b[:,0] = np.sqrt(x**2 + y**2)         # r: distance\n",
    "b[:,1] = np.arctan2(y, x)      # θ: angle\n",
    "print(b)"
   ]
  },
  {
   "cell_type": "markdown",
   "id": "a556027a",
   "metadata": {},
   "source": [
    "#### 45. Create random vector of size 10 and replace the maximum value by 0 (★★☆)"
   ]
  },
  {
   "cell_type": "code",
   "execution_count": 49,
   "id": "9e07cb87",
   "metadata": {},
   "outputs": [
    {
     "name": "stdout",
     "output_type": "stream",
     "text": [
      "[0.48138605 0.66849221 0.06147414 0.89750497 0.45803194 0.90942583\n",
      " 0.52186866 0.96288466 0.73314375 0.12820546]\n",
      "[0.48138605 0.66849221 0.06147414 0.89750497 0.45803194 0.90942583\n",
      " 0.52186866 0.         0.73314375 0.12820546]\n"
     ]
    }
   ],
   "source": [
    "x = np.random.random(10)\n",
    "print(x)\n",
    "x[np.argmax(x)] = 0\n",
    "print(x)"
   ]
  },
  {
   "cell_type": "markdown",
   "id": "004f3da1",
   "metadata": {},
   "source": [
    "#### 46. Create a structured array with `x` and `y` coordinates covering the [0,1]x[0,1] area (★★☆)"
   ]
  },
  {
   "cell_type": "code",
   "execution_count": 52,
   "id": "c8dbb662",
   "metadata": {},
   "outputs": [
    {
     "name": "stdout",
     "output_type": "stream",
     "text": [
      "[[(0., 0.) (0., 0.) (0., 0.) (0., 0.) (0., 0.)]\n",
      " [(0., 0.) (0., 0.) (0., 0.) (0., 0.) (0., 0.)]\n",
      " [(0., 0.) (0., 0.) (0., 0.) (0., 0.) (0., 0.)]\n",
      " [(0., 0.) (0., 0.) (0., 0.) (0., 0.) (0., 0.)]\n",
      " [(0., 0.) (0., 0.) (0., 0.) (0., 0.) (0., 0.)]]\n"
     ]
    }
   ],
   "source": [
    "a = np.zeros((5,5), dtype=[('x',float),('y',float)])\n",
    "print(a)"
   ]
  },
  {
   "cell_type": "code",
   "execution_count": 58,
   "id": "d1bb41f4",
   "metadata": {},
   "outputs": [
    {
     "data": {
      "text/plain": [
       "[array([0.  , 0.25, 0.5 , 0.75, 1.  ])]"
      ]
     },
     "execution_count": 58,
     "metadata": {},
     "output_type": "execute_result"
    }
   ],
   "source": [
    "np.meshgrid(np.linspace(0,1,5))"
   ]
  },
  {
   "cell_type": "code",
   "execution_count": 59,
   "id": "4eb39b34",
   "metadata": {},
   "outputs": [
    {
     "data": {
      "text/plain": [
       "[array([[0.  , 0.25, 0.5 , 0.75, 1.  ],\n",
       "        [0.  , 0.25, 0.5 , 0.75, 1.  ],\n",
       "        [0.  , 0.25, 0.5 , 0.75, 1.  ],\n",
       "        [0.  , 0.25, 0.5 , 0.75, 1.  ],\n",
       "        [0.  , 0.25, 0.5 , 0.75, 1.  ]]),\n",
       " array([[0.  , 0.  , 0.  , 0.  , 0.  ],\n",
       "        [0.25, 0.25, 0.25, 0.25, 0.25],\n",
       "        [0.5 , 0.5 , 0.5 , 0.5 , 0.5 ],\n",
       "        [0.75, 0.75, 0.75, 0.75, 0.75],\n",
       "        [1.  , 1.  , 1.  , 1.  , 1.  ]])]"
      ]
     },
     "execution_count": 59,
     "metadata": {},
     "output_type": "execute_result"
    }
   ],
   "source": [
    "np.meshgrid(np.linspace(0,1,5), np.linspace(0,1,5))"
   ]
  },
  {
   "cell_type": "code",
   "execution_count": 57,
   "id": "c46d0f7a",
   "metadata": {},
   "outputs": [
    {
     "name": "stdout",
     "output_type": "stream",
     "text": [
      "[[(0.  , 0.  ) (0.25, 0.  ) (0.5 , 0.  ) (0.75, 0.  ) (1.  , 0.  )]\n",
      " [(0.  , 0.25) (0.25, 0.25) (0.5 , 0.25) (0.75, 0.25) (1.  , 0.25)]\n",
      " [(0.  , 0.5 ) (0.25, 0.5 ) (0.5 , 0.5 ) (0.75, 0.5 ) (1.  , 0.5 )]\n",
      " [(0.  , 0.75) (0.25, 0.75) (0.5 , 0.75) (0.75, 0.75) (1.  , 0.75)]\n",
      " [(0.  , 1.  ) (0.25, 1.  ) (0.5 , 1.  ) (0.75, 1.  ) (1.  , 1.  )]]\n"
     ]
    }
   ],
   "source": [
    "a['x'], a['y'] = np.meshgrid(np.linspace(0,1,5), np.linspace(0,1,5))\n",
    "print(a)"
   ]
  },
  {
   "cell_type": "markdown",
   "id": "1c0adc0d",
   "metadata": {},
   "source": [
    "#### 47. Given two arrays, X and Y, construct the Cauchy matrix C (Cij =1/(xi - yj)) (★★☆)"
   ]
  },
  {
   "cell_type": "code",
   "execution_count": 71,
   "id": "f69e90ea",
   "metadata": {},
   "outputs": [
    {
     "name": "stdout",
     "output_type": "stream",
     "text": [
      "[[1 2 3 4]\n",
      " [5 6 7 8]]\n",
      "[[10 11 12 13]\n",
      " [14 15 16 17]]\n"
     ]
    },
    {
     "data": {
      "text/plain": [
       "array([[[[10, 11, 12, 13],\n",
       "         [14, 15, 16, 17]],\n",
       "\n",
       "        [[ 9, 10, 11, 12],\n",
       "         [13, 14, 15, 16]],\n",
       "\n",
       "        [[ 8,  9, 10, 11],\n",
       "         [12, 13, 14, 15]],\n",
       "\n",
       "        [[ 7,  8,  9, 10],\n",
       "         [11, 12, 13, 14]]],\n",
       "\n",
       "\n",
       "       [[[ 6,  7,  8,  9],\n",
       "         [10, 11, 12, 13]],\n",
       "\n",
       "        [[ 5,  6,  7,  8],\n",
       "         [ 9, 10, 11, 12]],\n",
       "\n",
       "        [[ 4,  5,  6,  7],\n",
       "         [ 8,  9, 10, 11]],\n",
       "\n",
       "        [[ 3,  4,  5,  6],\n",
       "         [ 7,  8,  9, 10]]]])"
      ]
     },
     "execution_count": 71,
     "metadata": {},
     "output_type": "execute_result"
    }
   ],
   "source": [
    "x = np.arange(1, 9).reshape(2,4)\n",
    "y = np.arange(10, 18).reshape(2,4)\n",
    "print(x)\n",
    "print(y)\n",
    "c = 1 - np.subtract.outer(x, y)\n",
    "c"
   ]
  },
  {
   "cell_type": "code",
   "execution_count": 75,
   "id": "089dbe63",
   "metadata": {},
   "outputs": [
    {
     "name": "stdout",
     "output_type": "stream",
     "text": [
      "[0 1 2 3 4 5 6 7]\n",
      "[0.5 1.5 2.5 3.5 4.5 5.5 6.5 7.5]\n",
      "[[-2.         -0.66666667 -0.4        -0.28571429 -0.22222222 -0.18181818\n",
      "  -0.15384615 -0.13333333]\n",
      " [ 2.         -2.         -0.66666667 -0.4        -0.28571429 -0.22222222\n",
      "  -0.18181818 -0.15384615]\n",
      " [ 0.66666667  2.         -2.         -0.66666667 -0.4        -0.28571429\n",
      "  -0.22222222 -0.18181818]\n",
      " [ 0.4         0.66666667  2.         -2.         -0.66666667 -0.4\n",
      "  -0.28571429 -0.22222222]\n",
      " [ 0.28571429  0.4         0.66666667  2.         -2.         -0.66666667\n",
      "  -0.4        -0.28571429]\n",
      " [ 0.22222222  0.28571429  0.4         0.66666667  2.         -2.\n",
      "  -0.66666667 -0.4       ]\n",
      " [ 0.18181818  0.22222222  0.28571429  0.4         0.66666667  2.\n",
      "  -2.         -0.66666667]\n",
      " [ 0.15384615  0.18181818  0.22222222  0.28571429  0.4         0.66666667\n",
      "   2.         -2.        ]]\n",
      "3638.163637117973\n"
     ]
    }
   ],
   "source": [
    "X = np.arange(8)\n",
    "Y = X + 0.5\n",
    "C = 1.0 / np.subtract.outer(X, Y)\n",
    "print(X)\n",
    "print(Y)\n",
    "print(C)\n",
    "print(np.linalg.det(C))"
   ]
  },
  {
   "cell_type": "markdown",
   "id": "c8a2f65a",
   "metadata": {},
   "source": [
    "#### 48. Print the minimum and maximum representable value for each numpy scalar type (★★☆)"
   ]
  },
  {
   "cell_type": "code",
   "execution_count": 96,
   "id": "40268971",
   "metadata": {},
   "outputs": [
    {
     "name": "stdout",
     "output_type": "stream",
     "text": [
      "Machine parameters for int64\n",
      "---------------------------------------------------------------\n",
      "min = -9223372036854775808\n",
      "max = 9223372036854775807\n",
      "---------------------------------------------------------------\n",
      "\n",
      "Machine parameters for int32\n",
      "---------------------------------------------------------------\n",
      "min = -2147483648\n",
      "max = 2147483647\n",
      "---------------------------------------------------------------\n",
      "\n",
      "Machine parameters for int16\n",
      "---------------------------------------------------------------\n",
      "min = -32768\n",
      "max = 32767\n",
      "---------------------------------------------------------------\n",
      "\n",
      "Machine parameters for int8\n",
      "---------------------------------------------------------------\n",
      "min = -128\n",
      "max = 127\n",
      "---------------------------------------------------------------\n",
      "\n"
     ]
    }
   ],
   "source": [
    "print(np.iinfo(np.int))\n",
    "print(np.iinfo(np.int32))\n",
    "print(np.iinfo(np.int16))\n",
    "print(np.iinfo(np.int8))\n",
    "# It seems you can have any size Integer type"
   ]
  },
  {
   "cell_type": "code",
   "execution_count": 97,
   "id": "703bab6b",
   "metadata": {},
   "outputs": [
    {
     "name": "stdout",
     "output_type": "stream",
     "text": [
      "Machine parameters for float64\n",
      "---------------------------------------------------------------\n",
      "precision =  15   resolution = 1.0000000000000001e-15\n",
      "machep =    -52   eps =        2.2204460492503131e-16\n",
      "negep =     -53   epsneg =     1.1102230246251565e-16\n",
      "minexp =  -1022   tiny =       2.2250738585072014e-308\n",
      "maxexp =   1024   max =        1.7976931348623157e+308\n",
      "nexp =       11   min =        -max\n",
      "---------------------------------------------------------------\n",
      "\n",
      "Machine parameters for float32\n",
      "---------------------------------------------------------------\n",
      "precision =   6   resolution = 1.0000000e-06\n",
      "machep =    -23   eps =        1.1920929e-07\n",
      "negep =     -24   epsneg =     5.9604645e-08\n",
      "minexp =   -126   tiny =       1.1754944e-38\n",
      "maxexp =    128   max =        3.4028235e+38\n",
      "nexp =        8   min =        -max\n",
      "---------------------------------------------------------------\n",
      "\n"
     ]
    }
   ],
   "source": [
    "# For float info use 'finfo'\n",
    "print(np.finfo(np.float))\n",
    "print(np.finfo(np.float32))"
   ]
  },
  {
   "cell_type": "markdown",
   "id": "11727a69",
   "metadata": {},
   "source": [
    "#### 49. How to print all the values of an array? (★★☆)"
   ]
  },
  {
   "cell_type": "code",
   "execution_count": 105,
   "id": "37fea4ff",
   "metadata": {},
   "outputs": [
    {
     "name": "stdout",
     "output_type": "stream",
     "text": [
      "[[[   1    2    3    4 ...    7    8    9   10]\n",
      "  [  11   12   13   14 ...   17   18   19   20]\n",
      "  [  21   22   23   24 ...   27   28   29   30]\n",
      "  [  31   32   33   34 ...   37   38   39   40]\n",
      "  ...\n",
      "  [ 161  162  163  164 ...  167  168  169  170]\n",
      "  [ 171  172  173  174 ...  177  178  179  180]\n",
      "  [ 181  182  183  184 ...  187  188  189  190]\n",
      "  [ 191  192  193  194 ...  197  198  199  200]]\n",
      "\n",
      " [[ 201  202  203  204 ...  207  208  209  210]\n",
      "  [ 211  212  213  214 ...  217  218  219  220]\n",
      "  [ 221  222  223  224 ...  227  228  229  230]\n",
      "  [ 231  232  233  234 ...  237  238  239  240]\n",
      "  ...\n",
      "  [ 361  362  363  364 ...  367  368  369  370]\n",
      "  [ 371  372  373  374 ...  377  378  379  380]\n",
      "  [ 381  382  383  384 ...  387  388  389  390]\n",
      "  [ 391  392  393  394 ...  397  398  399  400]]\n",
      "\n",
      " [[ 401  402  403  404 ...  407  408  409  410]\n",
      "  [ 411  412  413  414 ...  417  418  419  420]\n",
      "  [ 421  422  423  424 ...  427  428  429  430]\n",
      "  [ 431  432  433  434 ...  437  438  439  440]\n",
      "  ...\n",
      "  [ 561  562  563  564 ...  567  568  569  570]\n",
      "  [ 571  572  573  574 ...  577  578  579  580]\n",
      "  [ 581  582  583  584 ...  587  588  589  590]\n",
      "  [ 591  592  593  594 ...  597  598  599  600]]\n",
      "\n",
      " [[ 601  602  603  604 ...  607  608  609  610]\n",
      "  [ 611  612  613  614 ...  617  618  619  620]\n",
      "  [ 621  622  623  624 ...  627  628  629  630]\n",
      "  [ 631  632  633  634 ...  637  638  639  640]\n",
      "  ...\n",
      "  [ 761  762  763  764 ...  767  768  769  770]\n",
      "  [ 771  772  773  774 ...  777  778  779  780]\n",
      "  [ 781  782  783  784 ...  787  788  789  790]\n",
      "  [ 791  792  793  794 ...  797  798  799  800]]\n",
      "\n",
      " ...\n",
      "\n",
      " [[1201 1202 1203 1204 ... 1207 1208 1209 1210]\n",
      "  [1211 1212 1213 1214 ... 1217 1218 1219 1220]\n",
      "  [1221 1222 1223 1224 ... 1227 1228 1229 1230]\n",
      "  [1231 1232 1233 1234 ... 1237 1238 1239 1240]\n",
      "  ...\n",
      "  [1361 1362 1363 1364 ... 1367 1368 1369 1370]\n",
      "  [1371 1372 1373 1374 ... 1377 1378 1379 1380]\n",
      "  [1381 1382 1383 1384 ... 1387 1388 1389 1390]\n",
      "  [1391 1392 1393 1394 ... 1397 1398 1399 1400]]\n",
      "\n",
      " [[1401 1402 1403 1404 ... 1407 1408 1409 1410]\n",
      "  [1411 1412 1413 1414 ... 1417 1418 1419 1420]\n",
      "  [1421 1422 1423 1424 ... 1427 1428 1429 1430]\n",
      "  [1431 1432 1433 1434 ... 1437 1438 1439 1440]\n",
      "  ...\n",
      "  [1561 1562 1563 1564 ... 1567 1568 1569 1570]\n",
      "  [1571 1572 1573 1574 ... 1577 1578 1579 1580]\n",
      "  [1581 1582 1583 1584 ... 1587 1588 1589 1590]\n",
      "  [1591 1592 1593 1594 ... 1597 1598 1599 1600]]\n",
      "\n",
      " [[1601 1602 1603 1604 ... 1607 1608 1609 1610]\n",
      "  [1611 1612 1613 1614 ... 1617 1618 1619 1620]\n",
      "  [1621 1622 1623 1624 ... 1627 1628 1629 1630]\n",
      "  [1631 1632 1633 1634 ... 1637 1638 1639 1640]\n",
      "  ...\n",
      "  [1761 1762 1763 1764 ... 1767 1768 1769 1770]\n",
      "  [1771 1772 1773 1774 ... 1777 1778 1779 1780]\n",
      "  [1781 1782 1783 1784 ... 1787 1788 1789 1790]\n",
      "  [1791 1792 1793 1794 ... 1797 1798 1799 1800]]\n",
      "\n",
      " [[1801 1802 1803 1804 ... 1807 1808 1809 1810]\n",
      "  [1811 1812 1813 1814 ... 1817 1818 1819 1820]\n",
      "  [1821 1822 1823 1824 ... 1827 1828 1829 1830]\n",
      "  [1831 1832 1833 1834 ... 1837 1838 1839 1840]\n",
      "  ...\n",
      "  [1961 1962 1963 1964 ... 1967 1968 1969 1970]\n",
      "  [1971 1972 1973 1974 ... 1977 1978 1979 1980]\n",
      "  [1981 1982 1983 1984 ... 1987 1988 1989 1990]\n",
      "  [1991 1992 1993 1994 ... 1997 1998 1999 2000]]]\n"
     ]
    }
   ],
   "source": [
    "np.set_printoptions(threshold=3, edgeitems=4)\n",
    "print(np.arange(1,2001).reshape((10, 20, 10)))"
   ]
  },
  {
   "cell_type": "code",
   "execution_count": 106,
   "id": "37fea4ff",
   "metadata": {},
   "outputs": [
    {
     "name": "stdout",
     "output_type": "stream",
     "text": [
      "[[[   1    2    3    4    5    6    7    8    9   10]\n",
      "  [  11   12   13   14   15   16   17   18   19   20]\n",
      "  [  21   22   23   24   25   26   27   28   29   30]\n",
      "  [  31   32   33   34   35   36   37   38   39   40]\n",
      "  [  41   42   43   44   45   46   47   48   49   50]\n",
      "  [  51   52   53   54   55   56   57   58   59   60]\n",
      "  [  61   62   63   64   65   66   67   68   69   70]\n",
      "  [  71   72   73   74   75   76   77   78   79   80]\n",
      "  [  81   82   83   84   85   86   87   88   89   90]\n",
      "  [  91   92   93   94   95   96   97   98   99  100]\n",
      "  [ 101  102  103  104  105  106  107  108  109  110]\n",
      "  [ 111  112  113  114  115  116  117  118  119  120]\n",
      "  [ 121  122  123  124  125  126  127  128  129  130]\n",
      "  [ 131  132  133  134  135  136  137  138  139  140]\n",
      "  [ 141  142  143  144  145  146  147  148  149  150]\n",
      "  [ 151  152  153  154  155  156  157  158  159  160]\n",
      "  [ 161  162  163  164  165  166  167  168  169  170]\n",
      "  [ 171  172  173  174  175  176  177  178  179  180]\n",
      "  [ 181  182  183  184  185  186  187  188  189  190]\n",
      "  [ 191  192  193  194  195  196  197  198  199  200]]\n",
      "\n",
      " [[ 201  202  203  204  205  206  207  208  209  210]\n",
      "  [ 211  212  213  214  215  216  217  218  219  220]\n",
      "  [ 221  222  223  224  225  226  227  228  229  230]\n",
      "  [ 231  232  233  234  235  236  237  238  239  240]\n",
      "  [ 241  242  243  244  245  246  247  248  249  250]\n",
      "  [ 251  252  253  254  255  256  257  258  259  260]\n",
      "  [ 261  262  263  264  265  266  267  268  269  270]\n",
      "  [ 271  272  273  274  275  276  277  278  279  280]\n",
      "  [ 281  282  283  284  285  286  287  288  289  290]\n",
      "  [ 291  292  293  294  295  296  297  298  299  300]\n",
      "  [ 301  302  303  304  305  306  307  308  309  310]\n",
      "  [ 311  312  313  314  315  316  317  318  319  320]\n",
      "  [ 321  322  323  324  325  326  327  328  329  330]\n",
      "  [ 331  332  333  334  335  336  337  338  339  340]\n",
      "  [ 341  342  343  344  345  346  347  348  349  350]\n",
      "  [ 351  352  353  354  355  356  357  358  359  360]\n",
      "  [ 361  362  363  364  365  366  367  368  369  370]\n",
      "  [ 371  372  373  374  375  376  377  378  379  380]\n",
      "  [ 381  382  383  384  385  386  387  388  389  390]\n",
      "  [ 391  392  393  394  395  396  397  398  399  400]]\n",
      "\n",
      " [[ 401  402  403  404  405  406  407  408  409  410]\n",
      "  [ 411  412  413  414  415  416  417  418  419  420]\n",
      "  [ 421  422  423  424  425  426  427  428  429  430]\n",
      "  [ 431  432  433  434  435  436  437  438  439  440]\n",
      "  [ 441  442  443  444  445  446  447  448  449  450]\n",
      "  [ 451  452  453  454  455  456  457  458  459  460]\n",
      "  [ 461  462  463  464  465  466  467  468  469  470]\n",
      "  [ 471  472  473  474  475  476  477  478  479  480]\n",
      "  [ 481  482  483  484  485  486  487  488  489  490]\n",
      "  [ 491  492  493  494  495  496  497  498  499  500]\n",
      "  [ 501  502  503  504  505  506  507  508  509  510]\n",
      "  [ 511  512  513  514  515  516  517  518  519  520]\n",
      "  [ 521  522  523  524  525  526  527  528  529  530]\n",
      "  [ 531  532  533  534  535  536  537  538  539  540]\n",
      "  [ 541  542  543  544  545  546  547  548  549  550]\n",
      "  [ 551  552  553  554  555  556  557  558  559  560]\n",
      "  [ 561  562  563  564  565  566  567  568  569  570]\n",
      "  [ 571  572  573  574  575  576  577  578  579  580]\n",
      "  [ 581  582  583  584  585  586  587  588  589  590]\n",
      "  [ 591  592  593  594  595  596  597  598  599  600]]\n",
      "\n",
      " [[ 601  602  603  604  605  606  607  608  609  610]\n",
      "  [ 611  612  613  614  615  616  617  618  619  620]\n",
      "  [ 621  622  623  624  625  626  627  628  629  630]\n",
      "  [ 631  632  633  634  635  636  637  638  639  640]\n",
      "  [ 641  642  643  644  645  646  647  648  649  650]\n",
      "  [ 651  652  653  654  655  656  657  658  659  660]\n",
      "  [ 661  662  663  664  665  666  667  668  669  670]\n",
      "  [ 671  672  673  674  675  676  677  678  679  680]\n",
      "  [ 681  682  683  684  685  686  687  688  689  690]\n",
      "  [ 691  692  693  694  695  696  697  698  699  700]\n",
      "  [ 701  702  703  704  705  706  707  708  709  710]\n",
      "  [ 711  712  713  714  715  716  717  718  719  720]\n",
      "  [ 721  722  723  724  725  726  727  728  729  730]\n",
      "  [ 731  732  733  734  735  736  737  738  739  740]\n",
      "  [ 741  742  743  744  745  746  747  748  749  750]\n",
      "  [ 751  752  753  754  755  756  757  758  759  760]\n",
      "  [ 761  762  763  764  765  766  767  768  769  770]\n",
      "  [ 771  772  773  774  775  776  777  778  779  780]\n",
      "  [ 781  782  783  784  785  786  787  788  789  790]\n",
      "  [ 791  792  793  794  795  796  797  798  799  800]]\n",
      "\n",
      " [[ 801  802  803  804  805  806  807  808  809  810]\n",
      "  [ 811  812  813  814  815  816  817  818  819  820]\n",
      "  [ 821  822  823  824  825  826  827  828  829  830]\n",
      "  [ 831  832  833  834  835  836  837  838  839  840]\n",
      "  [ 841  842  843  844  845  846  847  848  849  850]\n",
      "  [ 851  852  853  854  855  856  857  858  859  860]\n",
      "  [ 861  862  863  864  865  866  867  868  869  870]\n",
      "  [ 871  872  873  874  875  876  877  878  879  880]\n",
      "  [ 881  882  883  884  885  886  887  888  889  890]\n",
      "  [ 891  892  893  894  895  896  897  898  899  900]\n",
      "  [ 901  902  903  904  905  906  907  908  909  910]\n",
      "  [ 911  912  913  914  915  916  917  918  919  920]\n",
      "  [ 921  922  923  924  925  926  927  928  929  930]\n",
      "  [ 931  932  933  934  935  936  937  938  939  940]\n",
      "  [ 941  942  943  944  945  946  947  948  949  950]\n",
      "  [ 951  952  953  954  955  956  957  958  959  960]\n",
      "  [ 961  962  963  964  965  966  967  968  969  970]\n",
      "  [ 971  972  973  974  975  976  977  978  979  980]\n",
      "  [ 981  982  983  984  985  986  987  988  989  990]\n",
      "  [ 991  992  993  994  995  996  997  998  999 1000]]\n",
      "\n",
      " [[1001 1002 1003 1004 1005 1006 1007 1008 1009 1010]\n",
      "  [1011 1012 1013 1014 1015 1016 1017 1018 1019 1020]\n",
      "  [1021 1022 1023 1024 1025 1026 1027 1028 1029 1030]\n",
      "  [1031 1032 1033 1034 1035 1036 1037 1038 1039 1040]\n",
      "  [1041 1042 1043 1044 1045 1046 1047 1048 1049 1050]\n",
      "  [1051 1052 1053 1054 1055 1056 1057 1058 1059 1060]\n",
      "  [1061 1062 1063 1064 1065 1066 1067 1068 1069 1070]\n",
      "  [1071 1072 1073 1074 1075 1076 1077 1078 1079 1080]\n",
      "  [1081 1082 1083 1084 1085 1086 1087 1088 1089 1090]\n",
      "  [1091 1092 1093 1094 1095 1096 1097 1098 1099 1100]\n",
      "  [1101 1102 1103 1104 1105 1106 1107 1108 1109 1110]\n",
      "  [1111 1112 1113 1114 1115 1116 1117 1118 1119 1120]\n",
      "  [1121 1122 1123 1124 1125 1126 1127 1128 1129 1130]\n",
      "  [1131 1132 1133 1134 1135 1136 1137 1138 1139 1140]\n",
      "  [1141 1142 1143 1144 1145 1146 1147 1148 1149 1150]\n",
      "  [1151 1152 1153 1154 1155 1156 1157 1158 1159 1160]\n",
      "  [1161 1162 1163 1164 1165 1166 1167 1168 1169 1170]\n",
      "  [1171 1172 1173 1174 1175 1176 1177 1178 1179 1180]\n",
      "  [1181 1182 1183 1184 1185 1186 1187 1188 1189 1190]\n",
      "  [1191 1192 1193 1194 1195 1196 1197 1198 1199 1200]]\n",
      "\n",
      " [[1201 1202 1203 1204 1205 1206 1207 1208 1209 1210]\n",
      "  [1211 1212 1213 1214 1215 1216 1217 1218 1219 1220]\n",
      "  [1221 1222 1223 1224 1225 1226 1227 1228 1229 1230]\n",
      "  [1231 1232 1233 1234 1235 1236 1237 1238 1239 1240]\n",
      "  [1241 1242 1243 1244 1245 1246 1247 1248 1249 1250]\n",
      "  [1251 1252 1253 1254 1255 1256 1257 1258 1259 1260]\n",
      "  [1261 1262 1263 1264 1265 1266 1267 1268 1269 1270]\n",
      "  [1271 1272 1273 1274 1275 1276 1277 1278 1279 1280]\n",
      "  [1281 1282 1283 1284 1285 1286 1287 1288 1289 1290]\n",
      "  [1291 1292 1293 1294 1295 1296 1297 1298 1299 1300]\n",
      "  [1301 1302 1303 1304 1305 1306 1307 1308 1309 1310]\n",
      "  [1311 1312 1313 1314 1315 1316 1317 1318 1319 1320]\n",
      "  [1321 1322 1323 1324 1325 1326 1327 1328 1329 1330]\n",
      "  [1331 1332 1333 1334 1335 1336 1337 1338 1339 1340]\n",
      "  [1341 1342 1343 1344 1345 1346 1347 1348 1349 1350]\n",
      "  [1351 1352 1353 1354 1355 1356 1357 1358 1359 1360]\n",
      "  [1361 1362 1363 1364 1365 1366 1367 1368 1369 1370]\n",
      "  [1371 1372 1373 1374 1375 1376 1377 1378 1379 1380]\n",
      "  [1381 1382 1383 1384 1385 1386 1387 1388 1389 1390]\n",
      "  [1391 1392 1393 1394 1395 1396 1397 1398 1399 1400]]\n",
      "\n",
      " [[1401 1402 1403 1404 1405 1406 1407 1408 1409 1410]\n",
      "  [1411 1412 1413 1414 1415 1416 1417 1418 1419 1420]\n",
      "  [1421 1422 1423 1424 1425 1426 1427 1428 1429 1430]\n",
      "  [1431 1432 1433 1434 1435 1436 1437 1438 1439 1440]\n",
      "  [1441 1442 1443 1444 1445 1446 1447 1448 1449 1450]\n",
      "  [1451 1452 1453 1454 1455 1456 1457 1458 1459 1460]\n",
      "  [1461 1462 1463 1464 1465 1466 1467 1468 1469 1470]\n",
      "  [1471 1472 1473 1474 1475 1476 1477 1478 1479 1480]\n",
      "  [1481 1482 1483 1484 1485 1486 1487 1488 1489 1490]\n",
      "  [1491 1492 1493 1494 1495 1496 1497 1498 1499 1500]\n",
      "  [1501 1502 1503 1504 1505 1506 1507 1508 1509 1510]\n",
      "  [1511 1512 1513 1514 1515 1516 1517 1518 1519 1520]\n",
      "  [1521 1522 1523 1524 1525 1526 1527 1528 1529 1530]\n",
      "  [1531 1532 1533 1534 1535 1536 1537 1538 1539 1540]\n",
      "  [1541 1542 1543 1544 1545 1546 1547 1548 1549 1550]\n",
      "  [1551 1552 1553 1554 1555 1556 1557 1558 1559 1560]\n",
      "  [1561 1562 1563 1564 1565 1566 1567 1568 1569 1570]\n",
      "  [1571 1572 1573 1574 1575 1576 1577 1578 1579 1580]\n",
      "  [1581 1582 1583 1584 1585 1586 1587 1588 1589 1590]\n",
      "  [1591 1592 1593 1594 1595 1596 1597 1598 1599 1600]]\n",
      "\n",
      " [[1601 1602 1603 1604 1605 1606 1607 1608 1609 1610]\n",
      "  [1611 1612 1613 1614 1615 1616 1617 1618 1619 1620]\n",
      "  [1621 1622 1623 1624 1625 1626 1627 1628 1629 1630]\n",
      "  [1631 1632 1633 1634 1635 1636 1637 1638 1639 1640]\n",
      "  [1641 1642 1643 1644 1645 1646 1647 1648 1649 1650]\n",
      "  [1651 1652 1653 1654 1655 1656 1657 1658 1659 1660]\n",
      "  [1661 1662 1663 1664 1665 1666 1667 1668 1669 1670]\n",
      "  [1671 1672 1673 1674 1675 1676 1677 1678 1679 1680]\n",
      "  [1681 1682 1683 1684 1685 1686 1687 1688 1689 1690]\n",
      "  [1691 1692 1693 1694 1695 1696 1697 1698 1699 1700]\n",
      "  [1701 1702 1703 1704 1705 1706 1707 1708 1709 1710]\n",
      "  [1711 1712 1713 1714 1715 1716 1717 1718 1719 1720]\n",
      "  [1721 1722 1723 1724 1725 1726 1727 1728 1729 1730]\n",
      "  [1731 1732 1733 1734 1735 1736 1737 1738 1739 1740]\n",
      "  [1741 1742 1743 1744 1745 1746 1747 1748 1749 1750]\n",
      "  [1751 1752 1753 1754 1755 1756 1757 1758 1759 1760]\n",
      "  [1761 1762 1763 1764 1765 1766 1767 1768 1769 1770]\n",
      "  [1771 1772 1773 1774 1775 1776 1777 1778 1779 1780]\n",
      "  [1781 1782 1783 1784 1785 1786 1787 1788 1789 1790]\n",
      "  [1791 1792 1793 1794 1795 1796 1797 1798 1799 1800]]\n",
      "\n",
      " [[1801 1802 1803 1804 1805 1806 1807 1808 1809 1810]\n",
      "  [1811 1812 1813 1814 1815 1816 1817 1818 1819 1820]\n",
      "  [1821 1822 1823 1824 1825 1826 1827 1828 1829 1830]\n",
      "  [1831 1832 1833 1834 1835 1836 1837 1838 1839 1840]\n",
      "  [1841 1842 1843 1844 1845 1846 1847 1848 1849 1850]\n",
      "  [1851 1852 1853 1854 1855 1856 1857 1858 1859 1860]\n",
      "  [1861 1862 1863 1864 1865 1866 1867 1868 1869 1870]\n",
      "  [1871 1872 1873 1874 1875 1876 1877 1878 1879 1880]\n",
      "  [1881 1882 1883 1884 1885 1886 1887 1888 1889 1890]\n",
      "  [1891 1892 1893 1894 1895 1896 1897 1898 1899 1900]\n",
      "  [1901 1902 1903 1904 1905 1906 1907 1908 1909 1910]\n",
      "  [1911 1912 1913 1914 1915 1916 1917 1918 1919 1920]\n",
      "  [1921 1922 1923 1924 1925 1926 1927 1928 1929 1930]\n",
      "  [1931 1932 1933 1934 1935 1936 1937 1938 1939 1940]\n",
      "  [1941 1942 1943 1944 1945 1946 1947 1948 1949 1950]\n",
      "  [1951 1952 1953 1954 1955 1956 1957 1958 1959 1960]\n",
      "  [1961 1962 1963 1964 1965 1966 1967 1968 1969 1970]\n",
      "  [1971 1972 1973 1974 1975 1976 1977 1978 1979 1980]\n",
      "  [1981 1982 1983 1984 1985 1986 1987 1988 1989 1990]\n",
      "  [1991 1992 1993 1994 1995 1996 1997 1998 1999 2000]]]\n"
     ]
    }
   ],
   "source": [
    "np.set_printoptions(threshold=np.float('inf'), edgeitems=np.float('inf'))\n",
    "print(np.arange(1,2001).reshape((10, 20, 10)))"
   ]
  },
  {
   "cell_type": "markdown",
   "id": "e0e7d741",
   "metadata": {},
   "source": [
    "#### 50. How to find the closest value (to a given scalar) in a vector? (★★☆)"
   ]
  },
  {
   "cell_type": "code",
   "execution_count": 116,
   "id": "62cabf6f",
   "metadata": {},
   "outputs": [
    {
     "name": "stdout",
     "output_type": "stream",
     "text": [
      "[4.5252938  8.02886305 3.65472191 9.30627776 5.730245   3.46581747\n",
      " 6.81371872 3.98272277 8.18007064 5.95253783]\n",
      "8.028863054488799\n"
     ]
    }
   ],
   "source": [
    "x = np.random.uniform(1, 10, 10)\n",
    "print(x)\n",
    "k = 8\n",
    "i = np.argmin(np.abs(x - k))\n",
    "print(x[i])"
   ]
  },
  {
   "cell_type": "markdown",
   "id": "c5611b9e",
   "metadata": {},
   "source": [
    "#### 51. Create a structured array representing a position (x,y) and a color (r,g,b) (★★☆)"
   ]
  },
  {
   "cell_type": "code",
   "execution_count": 127,
   "id": "f622939d",
   "metadata": {},
   "outputs": [
    {
     "data": {
      "text/plain": [
       "array([(0., 0., (0, 0, 0)), (0., 0., (0, 0, 0)), (0., 0., (0, 0, 0)),\n",
       "       (0., 0., (0, 0, 0)), (0., 0., (0, 0, 0)), (0., 0., (0, 0, 0)),\n",
       "       (0., 0., (0, 0, 0)), (0., 0., (0, 0, 0)), (0., 0., (0, 0, 0)),\n",
       "       (0., 0., (0, 0, 0))],\n",
       "      dtype=[('x', '<f8'), ('y', '<f8'), ('rgb', [('r', '<i8'), ('g', '<i8'), ('b', '<i8')])])"
      ]
     },
     "execution_count": 127,
     "metadata": {},
     "output_type": "execute_result"
    }
   ],
   "source": [
    "np.zeros(10, dtype=[('x',float),('y',float),('rgb', [('r',int),('g',int),('b',int)])])"
   ]
  },
  {
   "cell_type": "markdown",
   "id": "d22b8574",
   "metadata": {},
   "source": [
    "#### 52. Consider a random vector with shape (100,2) representing coordinates, find point by point distances (★★☆)"
   ]
  },
  {
   "cell_type": "code",
   "execution_count": 3,
   "id": "d5c9cdf8",
   "metadata": {},
   "outputs": [
    {
     "name": "stdout",
     "output_type": "stream",
     "text": [
      "[[4.71834722 1.95733405]\n",
      " [5.31701681 1.51982376]\n",
      " [7.71640636 4.72879503]\n",
      " [3.36334837 9.75982113]\n",
      " [1.04540439 9.37417012]\n",
      " [6.18086352 1.24756165]\n",
      " [9.78686424 2.33575999]\n",
      " [1.38777153 4.78641232]\n",
      " [2.22845979 9.58965136]\n",
      " [2.6641683  7.48707069]\n",
      " [5.39721988 4.8225942 ]\n",
      " [1.73128554 6.28689763]\n",
      " [5.61878857 6.98887772]\n",
      " [9.19040746 5.62441084]\n",
      " [5.13005206 6.39710703]\n",
      " [8.98851714 1.38166778]\n",
      " [2.45727109 2.67784035]\n",
      " [6.51919731 3.31472313]\n",
      " [2.11611192 6.57429745]\n",
      " [3.02845494 9.75019153]\n",
      " [6.44307117 7.9601761 ]\n",
      " [7.57060363 9.10222674]\n",
      " [7.8888396  9.72291406]\n",
      " [9.83105762 1.8207948 ]\n",
      " [5.87008483 8.1446469 ]\n",
      " [1.95315608 1.7288131 ]\n",
      " [3.87612736 1.34368043]\n",
      " [8.79839776 8.95431113]\n",
      " [5.23150966 5.50653143]\n",
      " [9.25093251 3.30347197]\n",
      " [7.78016691 3.23679015]\n",
      " [3.90610866 3.06139033]\n",
      " [9.35215883 1.6349254 ]\n",
      " [7.94103808 5.04713258]\n",
      " [1.7441026  9.54263956]\n",
      " [8.63384651 2.45296975]\n",
      " [5.34960424 7.14655177]\n",
      " [8.52352291 2.32311998]\n",
      " [5.54073921 1.73916807]\n",
      " [9.09245562 9.88724551]\n",
      " [4.48581616 1.88388344]\n",
      " [4.83636068 5.92822765]\n",
      " [5.28750404 3.72732479]\n",
      " [6.85624887 1.53377968]\n",
      " [3.31368241 7.82819275]\n",
      " [3.63721644 5.96363533]\n",
      " [1.13426524 8.33428488]\n",
      " [8.52221142 6.44926364]\n",
      " [9.53687188 9.93105969]\n",
      " [6.26597862 8.68427243]\n",
      " [5.22575478 4.70244243]\n",
      " [7.11580451 7.17417922]\n",
      " [6.7233584  6.55047926]\n",
      " [5.85955034 5.86442172]\n",
      " [8.69335284 8.45545607]\n",
      " [5.85077423 8.75618912]\n",
      " [9.05363509 9.08839722]\n",
      " [4.88569125 6.57821157]\n",
      " [2.47304705 4.72426636]\n",
      " [1.80669634 9.79960114]\n",
      " [1.77752732 1.26352272]\n",
      " [6.08483316 6.90856191]\n",
      " [9.3567763  3.11173335]\n",
      " [5.58138308 3.70298067]\n",
      " [1.16879457 6.99380572]\n",
      " [1.94273051 4.25586097]\n",
      " [5.50234794 7.46906704]\n",
      " [8.64515017 4.82064193]\n",
      " [9.43530474 6.83077875]\n",
      " [4.92012355 1.7363782 ]\n",
      " [9.48627287 5.32101933]\n",
      " [9.57495938 9.83321221]\n",
      " [2.52969941 1.22869155]\n",
      " [1.15947429 5.6290196 ]\n",
      " [3.66416035 8.45492808]\n",
      " [3.36600008 3.35424517]\n",
      " [7.68322054 4.95919723]\n",
      " [8.79330473 9.53928977]\n",
      " [4.06156455 7.59254041]\n",
      " [8.62108226 1.70064867]\n",
      " [9.64031152 9.07595013]\n",
      " [6.88211036 6.67808121]\n",
      " [5.62585666 1.88928441]\n",
      " [2.36668594 1.75007425]\n",
      " [6.89627036 2.23974559]\n",
      " [8.02485587 3.56879994]\n",
      " [2.50964786 3.14878816]\n",
      " [9.46924489 6.99300107]\n",
      " [9.38337293 6.11579155]\n",
      " [2.27669293 6.10851637]\n",
      " [4.03060937 1.87332474]\n",
      " [5.09353399 6.51292372]\n",
      " [3.60742868 1.10313647]\n",
      " [9.05872413 2.23094125]\n",
      " [1.78063591 7.20454276]\n",
      " [8.2442239  9.43973248]\n",
      " [3.44916762 2.71060657]\n",
      " [8.5262691  8.04002879]\n",
      " [4.54303909 5.07871948]\n",
      " [3.34044617 5.53440106]]\n"
     ]
    }
   ],
   "source": [
    "a = np.random.uniform(10, size=(100, 2))\n",
    "print(a)"
   ]
  },
  {
   "cell_type": "code",
   "execution_count": 12,
   "id": "0f236579",
   "metadata": {},
   "outputs": [
    {
     "name": "stdout",
     "output_type": "stream",
     "text": [
      "[[0.         0.74149884 4.08281209 ... 7.17631134 3.12630453 3.83327793]\n",
      " [0.74149884 0.         4.00681504 ... 7.26721225 3.64208461 4.4747807 ]\n",
      " [4.08281209 4.00681504 0.         ... 3.40883362 3.19260191 4.44949757]\n",
      " ...\n",
      " [7.17631134 7.26721225 3.40883362 ... 0.         4.96341355 5.75942096]\n",
      " [3.12630453 3.64208461 3.19260191 ... 4.96341355 0.         1.28603088]\n",
      " [3.83327793 4.4747807  4.44949757 ... 5.75942096 1.28603088 0.        ]]\n"
     ]
    }
   ],
   "source": [
    "x, y = np.atleast_2d(a[:,0], a[:,1])\n",
    "dist = np.sqrt((x-x.T)**2 + (y-y.T)**2)\n",
    "print(dist)"
   ]
  },
  {
   "cell_type": "markdown",
   "id": "f5c164f2",
   "metadata": {},
   "source": [
    "#### 53. How to convert a float (32 bits) array into an integer (32 bits) in place?"
   ]
  },
  {
   "cell_type": "code",
   "execution_count": 33,
   "id": "ea262de8",
   "metadata": {},
   "outputs": [
    {
     "data": {
      "text/plain": [
       "array([1., 2., 3., 4., 5.], dtype=float32)"
      ]
     },
     "execution_count": 33,
     "metadata": {},
     "output_type": "execute_result"
    }
   ],
   "source": [
    "x = np.array([1,2,3,4,5], dtype=np.float32)\n",
    "x"
   ]
  },
  {
   "cell_type": "code",
   "execution_count": 34,
   "id": "ea262de8",
   "metadata": {},
   "outputs": [
    {
     "data": {
      "text/plain": [
       "array([1065353216, 1073741824, 1077936128, 1082130432, 1084227584],\n",
       "      dtype=int32)"
      ]
     },
     "execution_count": 34,
     "metadata": {},
     "output_type": "execute_result"
    }
   ],
   "source": [
    "x = x.view(np.int32)\n",
    "x"
   ]
  },
  {
   "cell_type": "markdown",
   "id": "a8b7e6f5",
   "metadata": {},
   "source": [
    "#### 54. How to read the following file? (★★☆)\n",
    "```\n",
    "1, 2, 3, 4, 5\n",
    "6,  ,  , 7, 8\n",
    " ,  , 9,10,11\n",
    "```"
   ]
  },
  {
   "cell_type": "code",
   "execution_count": 39,
   "id": "75c4c416",
   "metadata": {},
   "outputs": [
    {
     "name": "stdout",
     "output_type": "stream",
     "text": [
      "[[ 1.  2.  3.  4.  5.]\n",
      " [ 6. nan nan  7.  8.]\n",
      " [nan nan  9. 10. 11.]]\n"
     ]
    }
   ],
   "source": [
    "from io import StringIO\n",
    "\n",
    "\n",
    "txt = '''\n",
    "1, 2, 3, 4, 5\n",
    "6,  ,  , 7, 8\n",
    " ,  , 9,10,11\n",
    "'''\n",
    "x = np.genfromtxt(StringIO(txt), delimiter=',')\n",
    "print(x)"
   ]
  },
  {
   "cell_type": "markdown",
   "id": "c6b32834",
   "metadata": {},
   "source": [
    "#### 55. What is the equivalent of enumerate for numpy arrays? (★★☆)"
   ]
  },
  {
   "cell_type": "code",
   "execution_count": 42,
   "id": "ab02472a",
   "metadata": {},
   "outputs": [
    {
     "name": "stdout",
     "output_type": "stream",
     "text": [
      "(0, 0) 10\n",
      "(0, 1) 9\n",
      "(0, 2) 8\n",
      "(1, 0) 7\n",
      "(1, 1) 6\n",
      "(1, 2) 5\n",
      "(2, 0) 4\n",
      "(2, 1) 3\n",
      "(2, 2) 2\n"
     ]
    }
   ],
   "source": [
    "x = np.arange(10, 1, -1).reshape((3,3))\n",
    "for i, e in np.ndenumerate(x):\n",
    "    print(i, e)"
   ]
  },
  {
   "cell_type": "markdown",
   "id": "a2121a05",
   "metadata": {},
   "source": [
    "#### 56. Generate a generic 2D Gaussian-like array (★★☆)"
   ]
  },
  {
   "cell_type": "code",
   "execution_count": 80,
   "id": "bc7fc716",
   "metadata": {},
   "outputs": [
    {
     "data": {
      "text/plain": [
       "<matplotlib.image.AxesImage at 0x7f0123220070>"
      ]
     },
     "execution_count": 80,
     "metadata": {},
     "output_type": "execute_result"
    },
    {
     "data": {
      "image/png": "[encoded data removed]",
      "text/plain": [
       "<Figure size 640x480 with 1 Axes>"
      ]
     },
     "metadata": {},
     "output_type": "display_data"
    }
   ],
   "source": [
    "mu, sigma = 0, 0.1 # mean and standard deviation\n",
    "s = np.random.normal(mu, sigma, (10,10))\n",
    "s\n",
    "\n",
    "import matplotlib.pyplot as plt\n",
    "plt.imshow(s)"
   ]
  },
  {
   "cell_type": "code",
   "execution_count": 81,
   "id": "757f9a37",
   "metadata": {},
   "outputs": [
    {
     "name": "stdout",
     "output_type": "stream",
     "text": [
      "(10, 10) (10, 10)\n",
      "[[0.60653066 0.669493   0.72096802 0.75746513 0.77640078 0.77640078\n",
      "  0.75746513 0.72096802 0.669493   0.60653066]\n",
      " [0.669493   0.7389913  0.7958098  0.83609558 0.85699689 0.85699689\n",
      "  0.83609558 0.7958098  0.7389913  0.669493  ]\n",
      " [0.72096802 0.7958098  0.85699689 0.9003801  0.92288844 0.92288844\n",
      "  0.9003801  0.85699689 0.7958098  0.72096802]\n",
      " [0.75746513 0.83609558 0.9003801  0.94595947 0.96960724 0.96960724\n",
      "  0.94595947 0.9003801  0.83609558 0.75746513]\n",
      " [0.77640078 0.85699689 0.92288844 0.96960724 0.99384617 0.99384617\n",
      "  0.96960724 0.92288844 0.85699689 0.77640078]\n",
      " [0.77640078 0.85699689 0.92288844 0.96960724 0.99384617 0.99384617\n",
      "  0.96960724 0.92288844 0.85699689 0.77640078]\n",
      " [0.75746513 0.83609558 0.9003801  0.94595947 0.96960724 0.96960724\n",
      "  0.94595947 0.9003801  0.83609558 0.75746513]\n",
      " [0.72096802 0.7958098  0.85699689 0.9003801  0.92288844 0.92288844\n",
      "  0.9003801  0.85699689 0.7958098  0.72096802]\n",
      " [0.669493   0.7389913  0.7958098  0.83609558 0.85699689 0.85699689\n",
      "  0.83609558 0.7958098  0.7389913  0.669493  ]\n",
      " [0.60653066 0.669493   0.72096802 0.75746513 0.77640078 0.77640078\n",
      "  0.75746513 0.72096802 0.669493   0.60653066]]\n"
     ]
    },
    {
     "data": {
      "text/plain": [
       "<matplotlib.image.AxesImage at 0x7f01231f4d30>"
      ]
     },
     "execution_count": 81,
     "metadata": {},
     "output_type": "execute_result"
    },
    {
     "data": {
      "image/png": "[encoded data removed]",
      "text/plain": [
       "<Figure size 640x480 with 1 Axes>"
      ]
     },
     "metadata": {},
     "output_type": "display_data"
    }
   ],
   "source": [
    "x, y = np.meshgrid(np.linspace(-1,1,10), np.linspace(-1,1,10))\n",
    "print(x.shape, y.shape)\n",
    "dist = np.sqrt(x*x + y*y)\n",
    "sigma, mu = 1.0, 0.0\n",
    "g = np.exp(-((dist - mu) / (2.0 * sigma))**2)\n",
    "print(g)\n",
    "\n",
    "plt.imshow(g)"
   ]
  },
  {
   "cell_type": "markdown",
   "id": "97055efa",
   "metadata": {},
   "source": [
    "#### 57. How to randomly place p elements in a 2D array? (★★☆)"
   ]
  },
  {
   "cell_type": "code",
   "execution_count": 41,
   "id": "842c9331",
   "metadata": {},
   "outputs": [
    {
     "name": "stdout",
     "output_type": "stream",
     "text": [
      "[[0. 0. 0. 0. 0. 0. 0. 0. 0. 0.]\n",
      " [0. 0. 0. 0. 0. 0. 0. 0. 0. 0.]\n",
      " [0. 0. 0. 0. 0. 0. 0. 0. 0. 0.]\n",
      " [0. 0. 0. 0. 0. 0. 0. 0. 0. 0.]\n",
      " [0. 0. 0. 0. 0. 0. 0. 0. 0. 0.]]\n",
      "[[  0.   0.   0. -99.   0. -99.   0.   0.   0.   0.]\n",
      " [  0. -99.   0.   0.   0.   0.   0. -99.   0.   0.]\n",
      " [  0.   0. -99.   0.   0.   0.   0.   0. -99.   0.]\n",
      " [  0.   0.   0.   0.   0.   0.   0.   0. -99.   0.]\n",
      " [  0.   0.   0.   0.   0.   0.   0.   0.   0.   0.]]\n"
     ]
    }
   ],
   "source": [
    "p = 7\n",
    "size = (5,10)\n",
    "x = np.zeros(size)\n",
    "print(x)\n",
    "idxs = np.random.choice(prod(size), p, replace=False)\n",
    "np.put(x, idxs, -99)\n",
    "print(x)"
   ]
  },
  {
   "cell_type": "markdown",
   "id": "bfd2513c",
   "metadata": {},
   "source": [
    "#### 58. Subtract the mean of each row of a matrix (★★☆)"
   ]
  },
  {
   "cell_type": "code",
   "execution_count": 70,
   "id": "f306ab72",
   "metadata": {},
   "outputs": [
    {
     "name": "stdout",
     "output_type": "stream",
     "text": [
      "[[2 3 4 1]\n",
      " [2 0 0 3]\n",
      " [0 0 4 4]\n",
      " [1 1 4 3]]\n",
      "[2.5  1.25 2.   2.25]\n",
      "[[-0.5   0.5   1.5  -1.5 ]\n",
      " [ 0.75 -1.25 -1.25  1.75]\n",
      " [-2.   -2.    2.    2.  ]\n",
      " [-1.25 -1.25  1.75  0.75]]\n"
     ]
    }
   ],
   "source": [
    "x = np.random.randint(0, 5, (4,4))\n",
    "print(x)\n",
    "mu = np.mean(x, axis=1)\n",
    "print(mu)\n",
    "x = x - mu.reshape(-1,1)\n",
    "print(x)"
   ]
  },
  {
   "cell_type": "markdown",
   "id": "da9f2f9b",
   "metadata": {},
   "source": [
    "#### 59. How to sort an array by the nth column? (★★☆)"
   ]
  },
  {
   "cell_type": "code",
   "execution_count": 79,
   "id": "867d1f84",
   "metadata": {},
   "outputs": [
    {
     "name": "stdout",
     "output_type": "stream",
     "text": [
      "[[2 1 0 3]\n",
      " [1 2 3 0]\n",
      " [3 4 3 4]\n",
      " [2 4 4 1]]\n"
     ]
    },
    {
     "data": {
      "text/plain": [
       "array([[2, 1, 0, 3],\n",
       "       [1, 2, 3, 0],\n",
       "       [3, 4, 3, 4],\n",
       "       [2, 4, 4, 1]])"
      ]
     },
     "execution_count": 79,
     "metadata": {},
     "output_type": "execute_result"
    }
   ],
   "source": [
    "x = np.random.randint(0, 5, (4,4))\n",
    "print(x)\n",
    "col = 2\n",
    "x[x[:,2].argsort()]"
   ]
  },
  {
   "cell_type": "markdown",
   "id": "5b7be45c",
   "metadata": {},
   "source": [
    "#### 60. How to tell if a given 2D array has null columns? (★★☆)"
   ]
  },
  {
   "cell_type": "code",
   "execution_count": 87,
   "id": "b2b0b0f9",
   "metadata": {},
   "outputs": [
    {
     "name": "stdout",
     "output_type": "stream",
     "text": [
      "[[nan  2.  3. nan  5.]\n",
      " [ 6.  7.  8. nan 10.]\n",
      " [11. nan 13. nan 15.]\n",
      " [16. 17. 18. nan 20.]]\n"
     ]
    },
    {
     "data": {
      "text/plain": [
       "array([False, False, False,  True, False])"
      ]
     },
     "execution_count": 87,
     "metadata": {},
     "output_type": "execute_result"
    }
   ],
   "source": [
    "x = np.array([\n",
    "    [np.nan,2,3,np.nan,5],\n",
    "    [6,7,8,np.nan,10],\n",
    "    [11,np.nan,13,np.nan,15],\n",
    "    [16,17,18,np.nan,20],])\n",
    "print(x)\n",
    "np.isnan(x).all(axis=0)"
   ]
  },
  {
   "cell_type": "code",
   "execution_count": 88,
   "id": "76e24c8f",
   "metadata": {},
   "outputs": [
    {
     "name": "stdout",
     "output_type": "stream",
     "text": [
      "[[ 0  2  3  0  5]\n",
      " [ 6  7  8  0 10]\n",
      " [11  0 13  0 15]\n",
      " [16 17 18  0 20]]\n"
     ]
    },
    {
     "data": {
      "text/plain": [
       "array([False, False, False, False, False])"
      ]
     },
     "execution_count": 88,
     "metadata": {},
     "output_type": "execute_result"
    }
   ],
   "source": [
    "x = np.array([\n",
    "    [0,2,3,0,5],\n",
    "    [6,7,8,0,10],\n",
    "    [11,0,13,0,15],\n",
    "    [16,17,18,0,20],])\n",
    "print(x)\n",
    "np.isnan(x).all(axis=0)"
   ]
  },
  {
   "cell_type": "code",
   "execution_count": 82,
   "id": "7dbe2c27",
   "metadata": {},
   "outputs": [
    {
     "name": "stdout",
     "output_type": "stream",
     "text": [
      "[[2 0 1 2 2 0 0 2 2 1]\n",
      " [0 0 1 2 2 1 1 0 2 2]\n",
      " [0 2 1 2 1 1 1 0 0 0]]\n",
      "False\n",
      "[False False  True]\n"
     ]
    }
   ],
   "source": [
    "# null : 0 \n",
    "Z = np.random.randint(0,3,(3,10))\n",
    "print(Z)\n",
    "print((~Z.any(axis=0)).any())\n",
    "\n",
    "# null : np.nan\n",
    "Z=np.array([\n",
    "    [0,1,np.nan],\n",
    "    [1,2,np.nan],\n",
    "    [4,5,np.nan]\n",
    "])\n",
    "print(np.isnan(Z).all(axis=0))"
   ]
  },
  {
   "cell_type": "markdown",
   "id": "7c18c02e",
   "metadata": {},
   "source": [
    "#### 61. Find the nearest value from a given value in an array (★★☆)"
   ]
  },
  {
   "cell_type": "code",
   "execution_count": 105,
   "id": "b78ae9c4",
   "metadata": {},
   "outputs": [
    {
     "name": "stdout",
     "output_type": "stream",
     "text": [
      "[1.61171692e+00 9.92005629e-01 6.99420894e-01 7.38660022e+00\n",
      " 9.10454536e-03 2.85353967e+00 9.65463310e+00 3.42471162e+00\n",
      " 4.95383893e+00 4.54191307e+00]\n"
     ]
    },
    {
     "data": {
      "text/plain": [
       "4.541913067193417"
      ]
     },
     "execution_count": 105,
     "metadata": {},
     "output_type": "execute_result"
    }
   ],
   "source": [
    "x = np.random.uniform(0, 10, 10)\n",
    "print(x)\n",
    "n = 4\n",
    "x[np.abs(x - 4).argmin()]"
   ]
  },
  {
   "cell_type": "markdown",
   "id": "8174ba2c",
   "metadata": {},
   "source": [
    "#### 62. Considering two arrays with shape (1,3) and (3,1), how to compute their sum using an iterator? (★★☆)"
   ]
  },
  {
   "cell_type": "code",
   "execution_count": 119,
   "id": "fb0c7f88",
   "metadata": {},
   "outputs": [
    {
     "name": "stdout",
     "output_type": "stream",
     "text": [
      "[[0 1 2]]\n",
      "[[0]\n",
      " [1]\n",
      " [2]]\n",
      "[[0 1 2]\n",
      " [1 2 3]\n",
      " [2 3 4]]\n"
     ]
    }
   ],
   "source": [
    "x = np.arange(3).reshape(1,3)\n",
    "print(x)\n",
    "y = np.arange(3).reshape(3,1)\n",
    "print(y)\n",
    "iterator = np.nditer([x, y, None])\n",
    "for a,b,c in iterator:\n",
    "    c[...] = a + b\n",
    "print(iterator.operands[2])\n"
   ]
  },
  {
   "cell_type": "markdown",
   "id": "9189bd7c",
   "metadata": {},
   "source": [
    "#### 63. Create an array class that has a name attribute (★★☆)"
   ]
  },
  {
   "cell_type": "code",
   "execution_count": 123,
   "id": "57fcb682",
   "metadata": {},
   "outputs": [
    {
     "data": {
      "text/plain": [
       "array([1, 2, 3])"
      ]
     },
     "execution_count": 123,
     "metadata": {},
     "output_type": "execute_result"
    }
   ],
   "source": [
    "np.array([1,2,3]).view()"
   ]
  },
  {
   "cell_type": "code",
   "execution_count": 143,
   "id": "1827d92c",
   "metadata": {},
   "outputs": [],
   "source": [
    "class Array(np.ndarray):\n",
    "    def __new__(cls, array, name=None):\n",
    "        obj = np.asarray(array).view(cls)\n",
    "        obj.name = name\n",
    "        return obj\n",
    "    def __array_finalize__(self, obj):\n",
    "        if obj is None: return\n",
    "        self.name = getattr(obj, 'name', None)"
   ]
  },
  {
   "cell_type": "code",
   "execution_count": 149,
   "id": "4dbf8d2b",
   "metadata": {},
   "outputs": [
    {
     "name": "stdout",
     "output_type": "stream",
     "text": [
      "None [1 2 3]\n",
      "my vector [10 11 12]\n"
     ]
    }
   ],
   "source": [
    "x = Array(np.array([1,2,3]))\n",
    "print(x.name, x)\n",
    "y = Array(np.array([10,11,12]), 'my vector')\n",
    "print(y.name, y)"
   ]
  },
  {
   "cell_type": "markdown",
   "id": "f30162d2",
   "metadata": {},
   "source": [
    "#### 64. Consider a given vector, how to add 1 to each element indexed by a second vector (be careful with repeated indices)? (★★★)"
   ]
  },
  {
   "cell_type": "code",
   "execution_count": 167,
   "id": "093ba36f",
   "metadata": {},
   "outputs": [
    {
     "name": "stdout",
     "output_type": "stream",
     "text": [
      "[9 8 0 8 4 3 1 6 0 9]\n",
      "[2 6 2]\n",
      "[9 8 2 8 4 3 2 6 0 9]\n"
     ]
    }
   ],
   "source": [
    "n = 10\n",
    "x = np.random.randint(0, 10, n)\n",
    "idxs = np.random.randint(0, n, n//3)\n",
    "print(x)\n",
    "print(idxs)\n",
    "np.add.at(x, idxs, 1)\n",
    "print(x)"
   ]
  },
  {
   "cell_type": "markdown",
   "id": "f5b1c584",
   "metadata": {},
   "source": [
    "#### 65. How to accumulate elements of a vector (X) to an array (F) based on an index list (I)? (★★★)"
   ]
  },
  {
   "cell_type": "code",
   "execution_count": 186,
   "id": "1171958e",
   "metadata": {},
   "outputs": [
    {
     "name": "stdout",
     "output_type": "stream",
     "text": [
      "[1 2 3 4 5 6]\n",
      "[0 1 1 1 1 1 1]\n",
      "[1 1 2 1 1 5]\n",
      "[0. 1. 1. 2. 1. 1. 5.]\n"
     ]
    }
   ],
   "source": [
    "x = np.array([1,2,3,4,5,6])\n",
    "print(x)\n",
    "# Count number of occurrences of each value in array of non-negative ints.\n",
    "# (each index corresponds to original value in x)\n",
    "print(np.bincount(x))\n",
    "\n",
    "# If weights is specified the input array is weighted by it,\n",
    "# i.e. if a value n is found at position i, out[n] += weight[i] instead of out[n] += 1.\n",
    "weights = np.array([1,1,2,1,1,5])   # the weights are the \"index list (I)\"\n",
    "print(weights)\n",
    "f = np.bincount(x, weights)\n",
    "print(f)"
   ]
  },
  {
   "cell_type": "markdown",
   "id": "994c452d",
   "metadata": {},
   "source": [
    "#### 66. Considering a (w,h,3) image of (dtype=ubyte), compute the number of unique colors (★★☆)"
   ]
  },
  {
   "cell_type": "code",
   "execution_count": 194,
   "id": "5568b20a",
   "metadata": {},
   "outputs": [
    {
     "data": {
      "text/plain": [
       "array([1, 1, 3, 1, 0, 0, 3, 0, 0, 0, 2, 3, 1, 3, 3, 1, 2, 1, 2, 1, 3, 1,\n",
       "       3, 3, 1, 3, 0, 1, 2, 0, 2, 0, 1, 1, 1, 3, 1, 3, 1, 0, 0, 3, 0, 2,\n",
       "       3, 3, 0, 2, 1, 0, 1, 0, 0, 3, 2, 0, 3, 3, 2, 2, 1, 2, 0, 3, 2, 2,\n",
       "       3, 3, 1, 0, 0, 1, 0, 0, 2, 1, 2, 0, 2, 0, 2, 2, 3, 2, 0, 0, 1, 1,\n",
       "       3, 1, 0, 2, 3, 2, 1, 1, 3, 2, 0, 1])"
      ]
     },
     "execution_count": 194,
     "metadata": {},
     "output_type": "execute_result"
    }
   ],
   "source": [
    "np.random.randint(0, 4, 100)"
   ]
  },
  {
   "cell_type": "code",
   "execution_count": 266,
   "id": "be8263d4",
   "metadata": {},
   "outputs": [
    {
     "name": "stdout",
     "output_type": "stream",
     "text": [
      "14995\n"
     ]
    }
   ],
   "source": [
    "bits = 256\n",
    "w, h = 150, 100\n",
    "I = np.random.randint(0, bits, (h, w, 3)).astype(np.ubyte)\n",
    "colors = np.unique(I.reshape(-1, 3), axis=0)\n",
    "print(len(colors))"
   ]
  },
  {
   "cell_type": "markdown",
   "id": "4bddeb31",
   "metadata": {},
   "source": [
    "#### 67. Considering a four dimensions array, how to get sum over the last two axis at once? (★★★)"
   ]
  },
  {
   "cell_type": "code",
   "execution_count": 274,
   "id": "4c1a6bce",
   "metadata": {},
   "outputs": [
    {
     "data": {
      "text/plain": [
       "array([[ 7,  5,  6, 11],\n",
       "       [ 7,  7,  7, 13],\n",
       "       [11,  6,  4,  9]])"
      ]
     },
     "execution_count": 274,
     "metadata": {},
     "output_type": "execute_result"
    }
   ],
   "source": [
    "x = np.random.randint(0, 5, (3,4,2,2))\n",
    "x.sum(axis=(-2,-1))"
   ]
  },
  {
   "cell_type": "markdown",
   "id": "c4cf083c",
   "metadata": {},
   "source": [
    "#### 68. Considering a one-dimensional vector D, how to compute means of subsets of D using a vector S of same size describing subset  indices? (★★★)"
   ]
  },
  {
   "cell_type": "code",
   "execution_count": 44,
   "id": "9600a2dd",
   "metadata": {},
   "outputs": [
    {
     "name": "stdout",
     "output_type": "stream",
     "text": [
      "[0 0 1 2 4 4 1 1 2 3]\n",
      "[3 2 3 1 1 0 4 3 2 0]\n",
      "[7. 6. 2. 2. 1.]\n",
      "[2 2 2 3 1]\n",
      "[0.28571429 0.33333333 1.         1.5        1.        ]\n"
     ]
    }
   ],
   "source": [
    "n = 10\n",
    "D = np.random.randint(0, 5, n)\n",
    "print(D)\n",
    "S = np.random.randint(0, 5, n)\n",
    "print(S)\n",
    "D_sums = np.bincount(S, weights=D)\n",
    "print(D_sums)\n",
    "S_counts = np.bincount(S)\n",
    "print(S_counts)\n",
    "D_means = np.true_divide(S_counts, D_sums, )\n",
    "print(D_means)"
   ]
  },
  {
   "cell_type": "markdown",
   "id": "a5e316db",
   "metadata": {},
   "source": [
    "#### 69. How to get the diagonal of a dot product? (★★★)"
   ]
  },
  {
   "cell_type": "code",
   "execution_count": 57,
   "id": "b9f816b5",
   "metadata": {},
   "outputs": [
    {
     "name": "stdout",
     "output_type": "stream",
     "text": [
      "[[3 1 0 0]\n",
      " [1 3 3 2]\n",
      " [4 2 0 2]] \n",
      "\n",
      "[[4 0 1]\n",
      " [3 4 4]\n",
      " [0 3 3]\n",
      " [0 2 4]] \n",
      "\n",
      "[[15  4  7]\n",
      " [13 25 30]\n",
      " [22 12 20]] \n",
      "\n",
      "[15 25 20]\n"
     ]
    }
   ],
   "source": [
    "a = np.random.randint(0, 5, (3,4))\n",
    "b = np.random.randint(0, 5, (4,3))\n",
    "print(a, '\\n')\n",
    "print(b, '\\n')\n",
    "prod = np.dot(a, b)\n",
    "print(prod, '\\n')\n",
    "print(np.diag(prod))"
   ]
  },
  {
   "cell_type": "markdown",
   "id": "de727a7b",
   "metadata": {},
   "source": [
    "#### 70. Consider the vector [1, 2, 3, 4, 5], how to build a new vector with 3 consecutive zeros interleaved between each value? (★★★)"
   ]
  },
  {
   "cell_type": "code",
   "execution_count": 66,
   "id": "982be812",
   "metadata": {},
   "outputs": [
    {
     "name": "stdout",
     "output_type": "stream",
     "text": [
      "[1 2 3 4 5] \n",
      "\n",
      "[0. 0. 0. 0. 0. 0. 0. 0. 0. 0. 0. 0. 0. 0. 0. 0. 0.] \n",
      "\n",
      "[1. 0. 0. 0. 2. 0. 0. 0. 3. 0. 0. 0. 4. 0. 0. 0. 5.]\n"
     ]
    }
   ],
   "source": [
    "x = np.array([1,2,3,4,5])\n",
    "print(x, '\\n')\n",
    "n_zeros = 3\n",
    "y = np.zeros(n_zeros*(len(x)-1) + len(x))\n",
    "print(y, '\\n')\n",
    "y[::n_zeros+1] = x\n",
    "print(y)"
   ]
  },
  {
   "cell_type": "markdown",
   "id": "a9a73d6b",
   "metadata": {},
   "source": [
    "#### 71. Consider an array of dimension (5,5,3), how to mulitply it by an array with dimensions (5,5)? (★★★)"
   ]
  },
  {
   "cell_type": "code",
   "execution_count": 92,
   "id": "807846b1",
   "metadata": {},
   "outputs": [
    {
     "name": "stdout",
     "output_type": "stream",
     "text": [
      "[[0 4 2]\n",
      " [4 2 1]] \n",
      "\n",
      "[[3 2 2 4 4]\n",
      " [4 2 0 4 1]\n",
      " [4 3 0 0 4]\n",
      " [3 0 4 1 1]\n",
      " [4 4 3 2 1]] \n",
      "\n",
      "[[ 0 12  6]\n",
      " [ 8  4  2]]\n"
     ]
    }
   ],
   "source": [
    "x = np.random.randint(0, 5, (5,5,3))\n",
    "y = np.random.randint(0, 5, (5,5))\n",
    "print(x[0,:2,:], '\\n')\n",
    "print(y, '\\n')\n",
    "m = x * y[:,:,None]\n",
    "print(m[0,:2,:])"
   ]
  },
  {
   "cell_type": "markdown",
   "id": "a951c78f",
   "metadata": {},
   "source": [
    "#### 72. How to swap two rows of an array? (★★★)"
   ]
  },
  {
   "cell_type": "code",
   "execution_count": 104,
   "id": "e29b3fde",
   "metadata": {},
   "outputs": [
    {
     "name": "stdout",
     "output_type": "stream",
     "text": [
      "[[3 0 0 4 4 2 1 3]\n",
      " [2 3 1 2 3 1 0 1]\n",
      " [3 1 1 0 1 0 1 1]\n",
      " [4 0 1 2 4 4 2 0]] \n",
      "\n",
      "[[3 0 0 4 4 2 1 3]\n",
      " [4 0 1 2 4 4 2 0]\n",
      " [3 1 1 0 1 0 1 1]\n",
      " [2 3 1 2 3 1 0 1]] \n",
      "\n"
     ]
    }
   ],
   "source": [
    "x = np.random.randint(0, 5, (4,8))\n",
    "print(x, '\\n')\n",
    "x[[1,3]] = x[[3,1]]\n",
    "print(x, '\\n')"
   ]
  },
  {
   "cell_type": "markdown",
   "id": "43b639e8",
   "metadata": {},
   "source": [
    "#### 73. Consider a set of 10 triplets describing 10 triangles (with shared vertices), find the set of unique line segments composing all the  triangles (★★★)"
   ]
  },
  {
   "cell_type": "markdown",
   "id": "fa43de2b",
   "metadata": {},
   "source": [
    "I don't understand the exercise setup."
   ]
  },
  {
   "cell_type": "code",
   "execution_count": 123,
   "id": "a9106dab",
   "metadata": {},
   "outputs": [
    {
     "name": "stdout",
     "output_type": "stream",
     "text": [
      "[[81 21 93]\n",
      " [41 93 37]\n",
      " [90 32 93]\n",
      " [58 25 80]\n",
      " [80 75 89]\n",
      " [97 71 25]\n",
      " [26  0  5]\n",
      " [45 24 90]\n",
      " [ 0 54 30]\n",
      " [49 40 31]] \n",
      "\n",
      "[[81 21 21 93 93 81]\n",
      " [41 93 93 37 37 41]\n",
      " [90 32 32 93 93 90]\n",
      " [58 25 25 80 80 58]\n",
      " [80 75 75 89 89 80]\n",
      " [97 71 71 25 25 97]\n",
      " [26  0  0  5  5 26]\n",
      " [45 24 24 90 90 45]\n",
      " [ 0 54 54 30 30  0]\n",
      " [49 40 40 31 31 49]] \n",
      "\n",
      "[( 0,  5) ( 0, 26) ( 0, 30) ( 0, 54) ( 5, 26) (21, 81) (21, 93) (24, 45)\n",
      " (24, 90) (25, 58) (25, 71) (25, 80) (25, 97) (30, 54) (31, 40) (31, 49)\n",
      " (32, 90) (32, 93) (37, 41) (37, 93) (40, 49) (41, 93) (45, 90) (58, 80)\n",
      " (71, 97) (75, 80) (75, 89) (80, 89) (81, 93) (90, 93)]\n"
     ]
    }
   ],
   "source": [
    "faces = np.random.randint(0,100,(10,3))\n",
    "print(faces, '\\n')\n",
    "F = np.roll(faces.repeat(2, axis=1), -1, axis=1)\n",
    "print(F, '\\n')\n",
    "F = F.reshape(len(F)*3, 2)\n",
    "F = np.sort(F, axis=1)\n",
    "G = F.view( dtype=[('p0',F.dtype),('p1',F.dtype)] )\n",
    "G = np.unique(G)\n",
    "print(G)"
   ]
  },
  {
   "cell_type": "markdown",
   "id": "d41de585",
   "metadata": {},
   "source": [
    "#### 74. Given a sorted array C that corresponds to a bincount, how to produce an array A such that np.bincount(A) == C? (★★★)"
   ]
  },
  {
   "cell_type": "code",
   "execution_count": 136,
   "id": "5b0fab72",
   "metadata": {},
   "outputs": [
    {
     "name": "stdout",
     "output_type": "stream",
     "text": [
      "[0 2 1 1 2 0 1] \n",
      "\n",
      "[1 1 2 3 4 4 6] \n",
      "\n",
      "[1 1 2 3 4 4 6]\n"
     ]
    }
   ],
   "source": [
    "C = np.bincount([1,1,2,3,4,4,6])\n",
    "print(C, '\\n')\n",
    "#   repeats --> The number of repetitions for each element in index position. repeats is broadcasted to fit the shape of the given axis.\n",
    "A = np.repeat(np.arange(len(C)), repeats=C)\n",
    "print(A, '\\n')\n",
    "count_A = np.bincount(A)\n",
    "print(A)"
   ]
  },
  {
   "cell_type": "markdown",
   "id": "b50adf7c",
   "metadata": {},
   "source": [
    "#### 75. How to compute averages using a sliding window over an array? (★★★)"
   ]
  },
  {
   "cell_type": "code",
   "execution_count": 148,
   "id": "5702ce83",
   "metadata": {},
   "outputs": [
    {
     "name": "stdout",
     "output_type": "stream",
     "text": [
      "[0 1 2 3 4 5 6 7 8 9] \n",
      "\n",
      "[1. 2. 3. 4. 5. 6. 7. 8.]\n"
     ]
    }
   ],
   "source": [
    "def moving_average(a, n=3) :\n",
    "    ret = np.cumsum(a, dtype=float)\n",
    "    ret[n:] = ret[n:] - ret[:-n]\n",
    "    return ret[n - 1:] / n\n",
    "\n",
    "x = np.arange(10)\n",
    "print(x, '\\n')\n",
    "print(moving_average(x, n=3))"
   ]
  },
  {
   "cell_type": "markdown",
   "id": "1ab4c50d",
   "metadata": {},
   "source": [
    "#### 76. Consider a one-dimensional array Z, build a two-dimensional array whose first row is (Z[0],Z[1],Z[2]) and each subsequent row is  shifted by 1 (last row should be (Z[-3],Z[-2],Z[-1]) (★★★)"
   ]
  },
  {
   "cell_type": "code",
   "execution_count": null,
   "id": "83c05a39",
   "metadata": {},
   "outputs": [],
   "source": []
  },
  {
   "cell_type": "markdown",
   "id": "5b4fe59d",
   "metadata": {},
   "source": [
    "#### 77. How to negate a boolean, or to change the sign of a float inplace? (★★★)"
   ]
  },
  {
   "cell_type": "code",
   "execution_count": null,
   "id": "3c2373ff",
   "metadata": {},
   "outputs": [],
   "source": []
  },
  {
   "cell_type": "markdown",
   "id": "119ab5af",
   "metadata": {},
   "source": [
    "#### 78. Consider 2 sets of points P0,P1 describing lines (2d) and a point p, how to compute distance from p to each line i (P0[i],P1[i])? (★★★)"
   ]
  },
  {
   "cell_type": "code",
   "execution_count": null,
   "id": "1d8d06dc",
   "metadata": {},
   "outputs": [],
   "source": []
  },
  {
   "cell_type": "markdown",
   "id": "e5e7f323",
   "metadata": {},
   "source": [
    "#### 79. Consider 2 sets of points P0,P1 describing lines (2d) and a set of points P, how to compute distance from each point j (P[j]) to each line i (P0[i],P1[i])? (★★★)"
   ]
  },
  {
   "cell_type": "code",
   "execution_count": null,
   "id": "d0ce77e2",
   "metadata": {},
   "outputs": [],
   "source": []
  },
  {
   "cell_type": "markdown",
   "id": "9b9d03eb",
   "metadata": {},
   "source": [
    "#### 80. Consider an arbitrary array, write a function that extract a subpart with a fixed shape and centered on a given element (pad with a `fill` value when necessary) (★★★)"
   ]
  },
  {
   "cell_type": "code",
   "execution_count": null,
   "id": "ec2b7ae3",
   "metadata": {},
   "outputs": [],
   "source": []
  },
  {
   "cell_type": "markdown",
   "id": "27794913",
   "metadata": {},
   "source": [
    "#### 81. Consider an array Z = [1,2,3,4,5,6,7,8,9,10,11,12,13,14], how to generate an array R = [[1,2,3,4], [2,3,4,5], [3,4,5,6], ..., [11,12,13,14]]? (★★★)"
   ]
  },
  {
   "cell_type": "code",
   "execution_count": null,
   "id": "f3e7878b",
   "metadata": {},
   "outputs": [],
   "source": []
  },
  {
   "cell_type": "markdown",
   "id": "fae786f5",
   "metadata": {},
   "source": [
    "#### 82. Compute a matrix rank (★★★)"
   ]
  },
  {
   "cell_type": "code",
   "execution_count": null,
   "id": "64b9615b",
   "metadata": {},
   "outputs": [],
   "source": []
  },
  {
   "cell_type": "markdown",
   "id": "c85aa0b9",
   "metadata": {},
   "source": [
    "#### 83. How to find the most frequent value in an array?"
   ]
  },
  {
   "cell_type": "code",
   "execution_count": null,
   "id": "056be85b",
   "metadata": {},
   "outputs": [],
   "source": []
  },
  {
   "cell_type": "markdown",
   "id": "0ff2344d",
   "metadata": {},
   "source": [
    "#### 84. Extract all the contiguous 3x3 blocks from a random 10x10 matrix (★★★)"
   ]
  },
  {
   "cell_type": "code",
   "execution_count": null,
   "id": "d58b1318",
   "metadata": {},
   "outputs": [],
   "source": []
  },
  {
   "cell_type": "markdown",
   "id": "1a18b263",
   "metadata": {},
   "source": [
    "#### 85. Create a 2D array subclass such that Z[i,j] == Z[j,i] (★★★)"
   ]
  },
  {
   "cell_type": "code",
   "execution_count": null,
   "id": "87f17adc",
   "metadata": {},
   "outputs": [],
   "source": []
  },
  {
   "cell_type": "markdown",
   "id": "f85f2cad",
   "metadata": {},
   "source": [
    "#### 86. Consider a set of p matrices wich shape (n,n) and a set of p vectors with shape (n,1). How to compute the sum of of the p matrix products at once? (result has shape (n,1)) (★★★)"
   ]
  },
  {
   "cell_type": "code",
   "execution_count": null,
   "id": "8d230557",
   "metadata": {},
   "outputs": [],
   "source": []
  },
  {
   "cell_type": "markdown",
   "id": "5afb72c8",
   "metadata": {},
   "source": [
    "#### 87. Consider a 16x16 array, how to get the block-sum (block size is 4x4)? (★★★)"
   ]
  },
  {
   "cell_type": "code",
   "execution_count": null,
   "id": "e86f47a9",
   "metadata": {},
   "outputs": [],
   "source": []
  },
  {
   "cell_type": "markdown",
   "id": "6094d37c",
   "metadata": {},
   "source": [
    "#### 88. How to implement the Game of Life using numpy arrays? (★★★)"
   ]
  },
  {
   "cell_type": "code",
   "execution_count": null,
   "id": "a93e715f",
   "metadata": {},
   "outputs": [],
   "source": []
  },
  {
   "cell_type": "markdown",
   "id": "a173cf96",
   "metadata": {},
   "source": [
    "#### 89. How to get the n largest values of an array (★★★)"
   ]
  },
  {
   "cell_type": "code",
   "execution_count": null,
   "id": "b7c2ff35",
   "metadata": {},
   "outputs": [],
   "source": []
  },
  {
   "cell_type": "markdown",
   "id": "15db2d01",
   "metadata": {},
   "source": [
    "#### 90. Given an arbitrary number of vectors, build the cartesian product (every combinations of every item) (★★★)"
   ]
  },
  {
   "cell_type": "code",
   "execution_count": null,
   "id": "a9a4633d",
   "metadata": {},
   "outputs": [],
   "source": []
  },
  {
   "cell_type": "markdown",
   "id": "5d94d1ef",
   "metadata": {},
   "source": [
    "#### 91. How to create a record array from a regular array? (★★★)"
   ]
  },
  {
   "cell_type": "code",
   "execution_count": null,
   "id": "b1dae380",
   "metadata": {},
   "outputs": [],
   "source": []
  },
  {
   "cell_type": "markdown",
   "id": "114ccc36",
   "metadata": {},
   "source": [
    "#### 92. Consider a large vector Z, compute Z to the power of 3 using 3 different methods (★★★)"
   ]
  },
  {
   "cell_type": "code",
   "execution_count": null,
   "id": "877c65d6",
   "metadata": {},
   "outputs": [],
   "source": []
  },
  {
   "cell_type": "markdown",
   "id": "d614fee4",
   "metadata": {},
   "source": [
    "#### 93. Consider two arrays A and B of shape (8,3) and (2,2). How to find rows of A that contain elements of each row of B regardless of the order of the elements in B? (★★★)"
   ]
  },
  {
   "cell_type": "code",
   "execution_count": null,
   "id": "e6807a84",
   "metadata": {},
   "outputs": [],
   "source": []
  },
  {
   "cell_type": "markdown",
   "id": "b0eedca6",
   "metadata": {},
   "source": [
    "#### 94. Considering a 10x3 matrix, extract rows with unequal values (e.g. [2,2,3]) (★★★)"
   ]
  },
  {
   "cell_type": "code",
   "execution_count": null,
   "id": "fc136ce2",
   "metadata": {},
   "outputs": [],
   "source": []
  },
  {
   "cell_type": "markdown",
   "id": "a65ec1cf",
   "metadata": {},
   "source": [
    "#### 95. Convert a vector of ints into a matrix binary representation (★★★)"
   ]
  },
  {
   "cell_type": "code",
   "execution_count": null,
   "id": "323cdf4c",
   "metadata": {},
   "outputs": [],
   "source": []
  },
  {
   "cell_type": "markdown",
   "id": "75b9397f",
   "metadata": {},
   "source": [
    "#### 96. Given a two dimensional array, how to extract unique rows? (★★★)"
   ]
  },
  {
   "cell_type": "code",
   "execution_count": null,
   "id": "9bb56a47",
   "metadata": {},
   "outputs": [],
   "source": []
  },
  {
   "cell_type": "markdown",
   "id": "82aaf21b",
   "metadata": {},
   "source": [
    "#### 97. Considering 2 vectors A & B, write the einsum equivalent of inner, outer, sum, and mul function (★★★)"
   ]
  },
  {
   "cell_type": "code",
   "execution_count": null,
   "id": "cedcefd9",
   "metadata": {},
   "outputs": [],
   "source": []
  },
  {
   "cell_type": "markdown",
   "id": "7741e17f",
   "metadata": {},
   "source": [
    "#### 98. Considering a path described by two vectors (X,Y), how to sample it using equidistant samples (★★★)?"
   ]
  },
  {
   "cell_type": "code",
   "execution_count": null,
   "id": "0b2432fe",
   "metadata": {},
   "outputs": [],
   "source": []
  },
  {
   "cell_type": "markdown",
   "id": "340d6f36",
   "metadata": {},
   "source": [
    "#### 99. Given an integer n and a 2D array X, select from X the rows which can be interpreted as draws from a multinomial distribution with n degrees, i.e., the rows which only contain integers and which sum to n. (★★★)"
   ]
  },
  {
   "cell_type": "code",
   "execution_count": null,
   "id": "a75323ae",
   "metadata": {},
   "outputs": [],
   "source": []
  },
  {
   "cell_type": "markdown",
   "id": "19721849",
   "metadata": {},
   "source": [
    "#### 100. Compute bootstrapped 95% confidence intervals for the mean of a 1D array X (i.e., resample the elements of an array with replacement N times, compute the mean of each sample, and then compute percentiles over the means). (★★★)"
   ]
  },
  {
   "cell_type": "code",
   "execution_count": null,
   "id": "87309c6f",
   "metadata": {},
   "outputs": [],
   "source": []
  }
 ],
 "metadata": {
  "kernelspec": {
   "display_name": "Python 3.10.7 ('venv': venv)",
   "language": "python",
   "name": "python3"
  },
  "language_info": {
   "codemirror_mode": {
    "name": "ipython",
    "version": 3
   },
   "file_extension": ".py",
   "mimetype": "text/x-python",
   "name": "python",
   "nbconvert_exporter": "python",
   "pygments_lexer": "ipython3",
   "version": "3.10.7"
  },
  "vscode": {
   "interpreter": {
    "hash": "7599baa9c26c9b3a542856048fa45fbd26fb7ef61020a90017b6ee0a0c96405a"
   }
  }
 },
 "nbformat": 4,
 "nbformat_minor": 5
}
